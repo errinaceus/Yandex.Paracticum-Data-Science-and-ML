{
 "cells": [
  {
   "cell_type": "markdown",
   "metadata": {},
   "source": [
    "# Selecting a location for a well"
   ]
  },
  {
   "cell_type": "markdown",
   "metadata": {},
   "source": [
    "Let's say you work for the mining company GlavRosGosNeft. We need to decide where to drill a new well.\n",
    "\n",
    "You were provided with oil samples in three regions: in each 10,000 fields, where the quality of oil and the volume of its reserves were measured. Build a machine learning model that will help determine the region where mining will bring the greatest profit. Analyze the possible profits and risks using the *Bootstrap.* technique\n",
    "\n",
    "Steps to select a location:\n",
    "\n",
    "- Deposits are searched for in the selected region, and the characteristic values are determined for each;\n",
    "- Build a model and estimate the volume of reserves;\n",
    "- Deposits with the highest estimated values are selected. The number of fields depends on the company’s budget and the cost of developing one well;\n",
    "- Profit is equal to the total profit of the selected fields."
   ]
  },
  {
   "cell_type": "markdown",
   "metadata": {},
   "source": [
    "## Loading and preparing data"
   ]
  },
  {
   "cell_type": "code",
   "execution_count": 1,
   "metadata": {},
   "outputs": [
    {
     "data": {
      "text/html": [
       "<div>\n",
       "<style scoped>\n",
       "    .dataframe tbody tr th:only-of-type {\n",
       "        vertical-align: middle;\n",
       "    }\n",
       "\n",
       "    .dataframe tbody tr th {\n",
       "        vertical-align: top;\n",
       "    }\n",
       "\n",
       "    .dataframe thead th {\n",
       "        text-align: right;\n",
       "    }\n",
       "</style>\n",
       "<table border=\"1\" class=\"dataframe\">\n",
       "  <thead>\n",
       "    <tr style=\"text-align: right;\">\n",
       "      <th></th>\n",
       "      <th>id</th>\n",
       "      <th>f0</th>\n",
       "      <th>f1</th>\n",
       "      <th>f2</th>\n",
       "      <th>product</th>\n",
       "    </tr>\n",
       "  </thead>\n",
       "  <tbody>\n",
       "    <tr>\n",
       "      <th>0</th>\n",
       "      <td>txEyH</td>\n",
       "      <td>0.705745</td>\n",
       "      <td>-0.497823</td>\n",
       "      <td>1.221170</td>\n",
       "      <td>105.280062</td>\n",
       "    </tr>\n",
       "    <tr>\n",
       "      <th>1</th>\n",
       "      <td>2acmU</td>\n",
       "      <td>1.334711</td>\n",
       "      <td>-0.340164</td>\n",
       "      <td>4.365080</td>\n",
       "      <td>73.037750</td>\n",
       "    </tr>\n",
       "    <tr>\n",
       "      <th>2</th>\n",
       "      <td>409Wp</td>\n",
       "      <td>1.022732</td>\n",
       "      <td>0.151990</td>\n",
       "      <td>1.419926</td>\n",
       "      <td>85.265647</td>\n",
       "    </tr>\n",
       "    <tr>\n",
       "      <th>3</th>\n",
       "      <td>iJLyR</td>\n",
       "      <td>-0.032172</td>\n",
       "      <td>0.139033</td>\n",
       "      <td>2.978566</td>\n",
       "      <td>168.620776</td>\n",
       "    </tr>\n",
       "    <tr>\n",
       "      <th>4</th>\n",
       "      <td>Xdl7t</td>\n",
       "      <td>1.988431</td>\n",
       "      <td>0.155413</td>\n",
       "      <td>4.751769</td>\n",
       "      <td>154.036647</td>\n",
       "    </tr>\n",
       "  </tbody>\n",
       "</table>\n",
       "</div>"
      ],
      "text/plain": [
       "      id        f0        f1        f2     product\n",
       "0  txEyH  0.705745 -0.497823  1.221170  105.280062\n",
       "1  2acmU  1.334711 -0.340164  4.365080   73.037750\n",
       "2  409Wp  1.022732  0.151990  1.419926   85.265647\n",
       "3  iJLyR -0.032172  0.139033  2.978566  168.620776\n",
       "4  Xdl7t  1.988431  0.155413  4.751769  154.036647"
      ]
     },
     "execution_count": 1,
     "metadata": {},
     "output_type": "execute_result"
    }
   ],
   "source": [
    "import os\n",
    "import pandas as pd\n",
    "import numpy as np\n",
    "import matplotlib.pyplot as plt\n",
    "import seaborn as sns\n",
    "from sklearn.linear_model import LinearRegression\n",
    "from sklearn.model_selection import cross_val_score, train_test_split\n",
    "from sklearn.metrics import mean_squared_error\n",
    "data_region0=pd.read_csv('datasets/geo_data_0.csv')\n",
    "data_region1=pd.read_csv('datasets/geo_data_1.csv')\n",
    "data_region2=pd.read_csv('datasets/geo_data_2.csv')\n",
    "data_region0.head()"
   ]
  },
  {
   "cell_type": "code",
   "execution_count": 2,
   "metadata": {},
   "outputs": [
    {
     "name": "stdout",
     "output_type": "stream",
     "text": [
      "(100000, 5)\n",
      "(100000, 5)\n",
      "(100000, 5)\n"
     ]
    }
   ],
   "source": [
    "#check for duplicates\n",
    "\n",
    "print(data_region0.drop_duplicates().shape)\n",
    "print(data_region1.drop_duplicates().shape)\n",
    "print(data_region2.drop_duplicates().shape)"
   ]
  },
  {
   "cell_type": "code",
   "execution_count": 3,
   "metadata": {},
   "outputs": [
    {
     "name": "stdout",
     "output_type": "stream",
     "text": [
      "               f0        f1        f2   product\n",
      "f0       1.000000 -0.440723 -0.003153  0.143536\n",
      "f1      -0.440723  1.000000  0.001724 -0.192356\n",
      "f2      -0.003153  0.001724  1.000000  0.483663\n",
      "product  0.143536 -0.192356  0.483663  1.000000\n",
      "               f0        f1        f2   product\n",
      "f0       1.000000  0.182287 -0.001777 -0.030491\n",
      "f1       0.182287  1.000000 -0.002595 -0.010155\n",
      "f2      -0.001777 -0.002595  1.000000  0.999397\n",
      "product -0.030491 -0.010155  0.999397  1.000000\n",
      "               f0        f1        f2   product\n",
      "f0       1.000000  0.000528 -0.000448 -0.001987\n",
      "f1       0.000528  1.000000  0.000779 -0.001012\n",
      "f2      -0.000448  0.000779  1.000000  0.445871\n",
      "product -0.001987 -0.001012  0.445871  1.000000\n"
     ]
    },
    {
     "name": "stderr",
     "output_type": "stream",
     "text": [
      "/var/folders/jm/05ch517x2v976nq1w0l5znn40000gn/T/ipykernel_13503/3477714109.py:2: FutureWarning: The default value of numeric_only in DataFrame.corr is deprecated. In a future version, it will default to False. Select only valid columns or specify the value of numeric_only to silence this warning.\n",
      "  print(data_region0.corr())\n",
      "/var/folders/jm/05ch517x2v976nq1w0l5znn40000gn/T/ipykernel_13503/3477714109.py:3: FutureWarning: The default value of numeric_only in DataFrame.corr is deprecated. In a future version, it will default to False. Select only valid columns or specify the value of numeric_only to silence this warning.\n",
      "  print(data_region1.corr())\n",
      "/var/folders/jm/05ch517x2v976nq1w0l5znn40000gn/T/ipykernel_13503/3477714109.py:4: FutureWarning: The default value of numeric_only in DataFrame.corr is deprecated. In a future version, it will default to False. Select only valid columns or specify the value of numeric_only to silence this warning.\n",
      "  print(data_region2.corr())\n"
     ]
    }
   ],
   "source": [
    "#let's evaluate the possible correlation between the signs\n",
    "print(data_region0.corr())\n",
    "print(data_region1.corr())\n",
    "print(data_region2.corr())"
   ]
  },
  {
   "cell_type": "code",
   "execution_count": 4,
   "metadata": {},
   "outputs": [],
   "source": [
    "data_region0=data_region0.drop(['id'],axis=1).reset_index(drop=True)\n",
    "data_region1=data_region1.drop(['id'],axis=1).reset_index(drop=True)\n",
    "data_region2=data_region2.drop(['id'],axis=1).reset_index(drop=True)"
   ]
  },
  {
   "cell_type": "markdown",
   "metadata": {},
   "source": [
    "There are no duplicates in the data, there is a moderate negative correlation between traits f0 and f1 in region 0, and a weak positive correlation between traits f0 and f1 in region 1. This could potentially bias the results for region 0."
   ]
  },
  {
   "cell_type": "markdown",
   "metadata": {},
   "source": [
    "## Model training and testing"
   ]
  },
  {
   "cell_type": "code",
   "execution_count": 5,
   "metadata": {},
   "outputs": [
    {
     "name": "stdout",
     "output_type": "stream",
     "text": [
      "{'mean': [92.59256778438038, 68.728546895446, 94.96504596800492], 'rmse': [37.5794217150813, 0.8930992867756165, 40.02970873393434]}\n",
      "[0         10.038645\n",
      "1        114.551489\n",
      "2        132.603635\n",
      "3        169.072125\n",
      "4        122.325180\n",
      "            ...    \n",
      "24995    170.116726\n",
      "24996     93.632175\n",
      "24997    127.352259\n",
      "24998     99.782700\n",
      "24999    177.821022\n",
      "Name: product, Length: 25000, dtype: float64, 0         80.859783\n",
      "1         53.906522\n",
      "2         30.132364\n",
      "3         53.906522\n",
      "4          0.000000\n",
      "            ...    \n",
      "24995    137.945408\n",
      "24996    110.992147\n",
      "24997    137.945408\n",
      "24998     84.038886\n",
      "24999     53.906522\n",
      "Name: product, Length: 25000, dtype: float64, 0         61.212375\n",
      "1         41.850118\n",
      "2         57.776581\n",
      "3        100.053761\n",
      "4        109.897122\n",
      "            ...    \n",
      "24995     28.492402\n",
      "24996     21.431303\n",
      "24997    125.487229\n",
      "24998     99.422903\n",
      "24999    127.445075\n",
      "Name: product, Length: 25000, dtype: float64]\n",
      "[0         95.894952\n",
      "1         77.572583\n",
      "2         77.892640\n",
      "3         90.175134\n",
      "4         70.510088\n",
      "            ...    \n",
      "24995    103.037104\n",
      "24996     85.403255\n",
      "24997     61.509833\n",
      "24998    118.180397\n",
      "24999    118.169392\n",
      "Length: 25000, dtype: float64, 0         82.663314\n",
      "1         54.431786\n",
      "2         29.748760\n",
      "3         53.552133\n",
      "4          1.243856\n",
      "            ...    \n",
      "24995    136.869211\n",
      "24996    110.693465\n",
      "24997    137.879341\n",
      "24998     83.761966\n",
      "24999     53.958466\n",
      "Length: 25000, dtype: float64, 0         93.599633\n",
      "1         75.105159\n",
      "2         90.066809\n",
      "3        105.162375\n",
      "4        115.303310\n",
      "            ...    \n",
      "24995     78.765887\n",
      "24996     95.603394\n",
      "24997     99.407281\n",
      "24998     77.779912\n",
      "24999    129.032417\n",
      "Length: 25000, dtype: float64]\n"
     ]
    }
   ],
   "source": [
    "#create a list of dataframes with data by region\n",
    "regions=[data_region0,data_region1,data_region2]\n",
    "#list where we will save the correct answers on the validation set\n",
    "targets_valid=[]\n",
    "#list where we will save predictions on the validation set\n",
    "predictions=[]\n",
    "#create a dictionary of lists for results\n",
    "results = {'mean': [],'rmse': []}\n",
    "#Train the model and get predictions for each region\n",
    "for data in regions:\n",
    "    target = data['product']\n",
    "    features = data.drop('product', axis=1)\n",
    "    features_train, features_valid, target_train, target_valid = train_test_split(\n",
    "    features, target, test_size=0.25, random_state=12345)\n",
    "    model = LinearRegression()\n",
    "    model.fit(features_train, target_train)\n",
    "    predicted_valid = model.predict(features_valid)\n",
    "    # We will save the correct answers and predictions separately\n",
    "    targets_valid.append(pd.Series(target_valid).reset_index(drop=True))\n",
    "    predictions.append(pd.Series(predicted_valid).reset_index(drop=True))\n",
    "    #let's calculate rmse and average   \n",
    "    rmse=(mean_squared_error(target_valid, predicted_valid))**(1/2)\n",
    "    mean=predicted_valid.mean()\n",
    "    results['rmse'].append(rmse)    \n",
    "    results['mean'].append(mean)\n",
    "#let's check the results\n",
    "print(results)\n",
    "print(targets_valid)\n",
    "print(predictions)"
   ]
  },
  {
   "cell_type": "code",
   "execution_count": 6,
   "metadata": {},
   "outputs": [
    {
     "name": "stdout",
     "output_type": "stream",
     "text": [
      "        mean       rmse\n",
      "0  92.592568  37.579422\n",
      "1  68.728547   0.893099\n",
      "2  94.965046  40.029709\n"
     ]
    }
   ],
   "source": [
    "#transform the results into DataFrame\n",
    "predicted_res=pd.DataFrame(results)\n",
    "print(predicted_res)"
   ]
  },
  {
   "cell_type": "markdown",
   "metadata": {},
   "source": [
    "Models show that reserves in regions 0 and 2 are higher, but the prediction error is very high, which indicates a large scatter of values among wells. In region 1, reserves are smaller, but the spread of values is very small, which indicates the reliability of the model."
   ]
  },
  {
   "cell_type": "markdown",
   "metadata": {},
   "source": [
    "## Preparation for profit calculation"
   ]
  },
  {
   "cell_type": "code",
   "execution_count": 7,
   "metadata": {},
   "outputs": [],
   "source": [
    "#save key values in separate variables\n",
    "WELLS = 200\n",
    "TEST_WELLS=500\n",
    "BUDGET_TOTAL = 10E9\n",
    "BUDGET_ONE_WELL = BUDGET_TOTAL/WELLS\n",
    "PROFIT_BARREL = 450000\n",
    "ALPHA = 0.025"
   ]
  },
  {
   "cell_type": "code",
   "execution_count": 8,
   "metadata": {},
   "outputs": [
    {
     "name": "stdout",
     "output_type": "stream",
     "text": [
      "111.11111111111111\n"
     ]
    }
   ],
   "source": [
    "well_min_barrel=BUDGET_ONE_WELL/PROFIT_BARREL\n",
    "print(well_min_barrel)"
   ]
  },
  {
   "cell_type": "markdown",
   "metadata": {},
   "source": [
    "Conclusion: sufficient supply of raw materials for break-even development of a new well - 111,111 barrels"
   ]
  },
  {
   "cell_type": "markdown",
   "metadata": {},
   "source": [
    "## Calculation of profits and risks"
   ]
  },
  {
   "cell_type": "code",
   "execution_count": 9,
   "metadata": {},
   "outputs": [],
   "source": [
    "#function for calculating profit\n",
    "\n",
    "def revenue(target, predictions, count):\n",
    "    predictions=predictions.reset_index(drop=True)\n",
    "    target=target.reset_index(drop=True)\n",
    "    preds_sorted = predictions.sort_values(ascending=False)\n",
    "    selected = target[preds_sorted.index][:count]\n",
    "\n",
    "\n",
    "\n",
    "\n",
    "    profit_total = selected*PROFIT_BARREL\n",
    "    return profit_total.sum() - (BUDGET_ONE_WELL*count)"
   ]
  },
  {
   "cell_type": "code",
   "execution_count": 10,
   "metadata": {},
   "outputs": [],
   "source": [
    "state = np.random.RandomState(12345)\n",
    "#Let's create a dictionary for the results\n",
    "stat={'mean':[],'25quantile':[],'loss_probability':[]}\n",
    "values_for_plot=[]\n",
    "#Let's use the Bootstrap technique with 1000 samples to find the profit distribution\n",
    "\n",
    "for target,predictions in zip(targets_valid, predictions):\n",
    "    values = []\n",
    "    for i in range(1000):\n",
    "        target_subsample = target.sample(TEST_WELLS, replace=True, random_state=state)\n",
    "        preds_subsample = predictions[target_subsample.index]\n",
    "        values.append(revenue(target_subsample, preds_subsample, WELLS))   \n",
    "    \n",
    "    values = pd.Series(values)\n",
    "    stat['mean'].append(values.mean())\n",
    "    stat['25quantile'].append((values.quantile(ALPHA), values.quantile(1-ALPHA)))\n",
    "    stat['loss_probability'].append(100*values[values < 0].count()/values.count())\n",
    "    values_for_plot.append(values)\n",
    "    #sns.distplot(values, label=count)\n",
    "    #plt.legend(title=\"regions\")\n",
    "    "
   ]
  },
  {
   "cell_type": "code",
   "execution_count": 11,
   "metadata": {},
   "outputs": [
    {
     "data": {
      "text/html": [
       "<div>\n",
       "<style scoped>\n",
       "    .dataframe tbody tr th:only-of-type {\n",
       "        vertical-align: middle;\n",
       "    }\n",
       "\n",
       "    .dataframe tbody tr th {\n",
       "        vertical-align: top;\n",
       "    }\n",
       "\n",
       "    .dataframe thead th {\n",
       "        text-align: right;\n",
       "    }\n",
       "</style>\n",
       "<table border=\"1\" class=\"dataframe\">\n",
       "  <thead>\n",
       "    <tr style=\"text-align: right;\">\n",
       "      <th></th>\n",
       "      <th>mean</th>\n",
       "      <th>25quantile</th>\n",
       "      <th>loss_probability</th>\n",
       "    </tr>\n",
       "  </thead>\n",
       "  <tbody>\n",
       "    <tr>\n",
       "      <th>0</th>\n",
       "      <td>3.961650e+08</td>\n",
       "      <td>(-111215545.89049521, 909766941.5534226)</td>\n",
       "      <td>6.9</td>\n",
       "    </tr>\n",
       "    <tr>\n",
       "      <th>1</th>\n",
       "      <td>4.611558e+08</td>\n",
       "      <td>(78050810.75174175, 862952060.2637253)</td>\n",
       "      <td>0.7</td>\n",
       "    </tr>\n",
       "    <tr>\n",
       "      <th>2</th>\n",
       "      <td>3.929505e+08</td>\n",
       "      <td>(-112227625.37857561, 934562914.5511655)</td>\n",
       "      <td>6.5</td>\n",
       "    </tr>\n",
       "  </tbody>\n",
       "</table>\n",
       "</div>"
      ],
      "text/plain": [
       "           mean                                25quantile  loss_probability\n",
       "0  3.961650e+08  (-111215545.89049521, 909766941.5534226)               6.9\n",
       "1  4.611558e+08    (78050810.75174175, 862952060.2637253)               0.7\n",
       "2  3.929505e+08  (-112227625.37857561, 934562914.5511655)               6.5"
      ]
     },
     "execution_count": 11,
     "metadata": {},
     "output_type": "execute_result"
    }
   ],
   "source": [
    "pd.DataFrame(stat)"
   ]
  },
  {
   "cell_type": "code",
   "execution_count": 12,
   "metadata": {},
   "outputs": [
    {
     "data": {
      "image/png": "[encoded data removed]",
      "text/plain": [
       "<Figure size 640x480 with 1 Axes>"
      ]
     },
     "metadata": {},
     "output_type": "display_data"
    }
   ],
   "source": [
    "plot=pd.concat(values_for_plot,axis=1)\n",
    "plot.boxplot();\n"
   ]
  },
  {
   "cell_type": "markdown",
   "metadata": {},
   "source": [
    "Conclusion.\n",
    "Region 1 is the most promising for development: it has the highest average profit, the probability of losses is only 0.7%, and the minimum value of the confidence interval for net profit in the 2.5% quartile is still above 0."
   ]
  },
  {
   "cell_type": "code",
   "execution_count": null,
   "metadata": {},
   "outputs": [],
   "source": []
  }
 ],
 "metadata": {
  "ExecuteTimeLog": [
   {
    "duration": 2034,
    "start_time": "2023-05-27T11:24:25.694Z"
   },
   {
    "duration": 320,
    "start_time": "2023-05-27T11:24:46.159Z"
   },
   {
    "duration": 107,
    "start_time": "2023-05-27T11:40:21.601Z"
   },
   {
    "duration": 321,
    "start_time": "2023-05-27T11:40:30.301Z"
   },
   {
    "duration": 11,
    "start_time": "2023-05-27T11:40:40.140Z"
   },
   {
    "duration": 7,
    "start_time": "2023-05-27T11:49:51.295Z"
   },
   {
    "duration": 25,
    "start_time": "2023-05-27T11:50:55.688Z"
   },
   {
    "duration": 28,
    "start_time": "2023-05-27T11:51:09.912Z"
   },
   {
    "duration": 26,
    "start_time": "2023-05-27T11:51:16.088Z"
   },
   {
    "duration": 56,
    "start_time": "2023-05-27T14:20:17.801Z"
   },
   {
    "duration": 3116,
    "start_time": "2023-05-27T14:20:27.522Z"
   },
   {
    "duration": 15,
    "start_time": "2023-05-27T14:20:30.640Z"
   },
   {
    "duration": 209,
    "start_time": "2023-05-27T14:20:30.657Z"
   },
   {
    "duration": 21,
    "start_time": "2023-05-27T14:21:22.841Z"
   },
   {
    "duration": 110,
    "start_time": "2023-05-27T14:22:39.697Z"
   },
   {
    "duration": 194,
    "start_time": "2023-05-27T14:22:48.632Z"
   },
   {
    "duration": 243,
    "start_time": "2023-05-27T14:23:17.882Z"
   },
   {
    "duration": 361,
    "start_time": "2023-05-27T14:23:29.962Z"
   },
   {
    "duration": 425,
    "start_time": "2023-05-27T14:24:27.803Z"
   },
   {
    "duration": 347,
    "start_time": "2023-05-27T14:24:45.566Z"
   },
   {
    "duration": 46,
    "start_time": "2023-05-27T14:25:35.761Z"
   },
   {
    "duration": 290,
    "start_time": "2023-05-27T14:25:40.822Z"
   },
   {
    "duration": 358,
    "start_time": "2023-05-27T14:31:36.652Z"
   },
   {
    "duration": 60,
    "start_time": "2023-05-27T14:31:58.721Z"
   },
   {
    "duration": 419,
    "start_time": "2023-05-27T14:32:02.301Z"
   },
   {
    "duration": 10,
    "start_time": "2023-05-27T14:38:53.861Z"
   },
   {
    "duration": 9,
    "start_time": "2023-05-27T14:42:36.301Z"
   },
   {
    "duration": 52,
    "start_time": "2023-05-29T14:00:33.314Z"
   },
   {
    "duration": 3847,
    "start_time": "2023-05-29T14:00:39.952Z"
   },
   {
    "duration": 17,
    "start_time": "2023-05-29T14:00:43.801Z"
   },
   {
    "duration": 342,
    "start_time": "2023-05-29T14:00:43.820Z"
   },
   {
    "duration": 200,
    "start_time": "2023-05-29T14:00:44.164Z"
   },
   {
    "duration": 331,
    "start_time": "2023-05-29T14:01:05.739Z"
   },
   {
    "duration": 342,
    "start_time": "2023-05-29T14:01:41.416Z"
   },
   {
    "duration": 56,
    "start_time": "2023-05-29T14:03:18.301Z"
   },
   {
    "duration": 341,
    "start_time": "2023-05-29T14:06:24.841Z"
   },
   {
    "duration": 261,
    "start_time": "2023-05-29T14:06:35.420Z"
   },
   {
    "duration": 12,
    "start_time": "2023-05-29T14:07:25.458Z"
   },
   {
    "duration": 9,
    "start_time": "2023-05-29T14:07:39.855Z"
   },
   {
    "duration": 6,
    "start_time": "2023-05-29T14:08:31.110Z"
   },
   {
    "duration": 12,
    "start_time": "2023-05-29T14:09:39.191Z"
   },
   {
    "duration": 27,
    "start_time": "2023-05-29T14:09:57.710Z"
   },
   {
    "duration": 6,
    "start_time": "2023-05-29T14:10:19.620Z"
   },
   {
    "duration": 7,
    "start_time": "2023-05-29T14:11:43.141Z"
   },
   {
    "duration": 3,
    "start_time": "2023-05-29T14:27:38.063Z"
   },
   {
    "duration": 2,
    "start_time": "2023-05-29T14:27:38.688Z"
   },
   {
    "duration": 3,
    "start_time": "2023-05-29T14:27:57.538Z"
   },
   {
    "duration": 4,
    "start_time": "2023-05-29T14:28:49.613Z"
   },
   {
    "duration": 3,
    "start_time": "2023-05-29T14:28:50.064Z"
   },
   {
    "duration": 3,
    "start_time": "2023-05-29T14:54:54.942Z"
   },
   {
    "duration": 546,
    "start_time": "2023-05-29T15:02:45.313Z"
   },
   {
    "duration": 3,
    "start_time": "2023-05-29T15:04:06.078Z"
   },
   {
    "duration": 15,
    "start_time": "2023-05-29T15:12:57.245Z"
   },
   {
    "duration": 20,
    "start_time": "2023-05-29T15:15:19.107Z"
   },
   {
    "duration": 17,
    "start_time": "2023-05-29T15:16:14.746Z"
   },
   {
    "duration": 63,
    "start_time": "2023-05-29T15:18:11.757Z"
   },
   {
    "duration": 14,
    "start_time": "2023-05-29T15:18:22.407Z"
   },
   {
    "duration": 14,
    "start_time": "2023-05-29T15:20:29.841Z"
   },
   {
    "duration": 13,
    "start_time": "2023-05-29T15:20:40.428Z"
   },
   {
    "duration": 14,
    "start_time": "2023-05-29T15:23:18.234Z"
   },
   {
    "duration": 372,
    "start_time": "2023-05-29T15:24:26.185Z"
   },
   {
    "duration": 548,
    "start_time": "2023-05-29T15:25:27.610Z"
   },
   {
    "duration": 328,
    "start_time": "2023-05-29T15:25:43.639Z"
   },
   {
    "duration": 434,
    "start_time": "2023-05-29T15:26:04.234Z"
   },
   {
    "duration": 124,
    "start_time": "2023-05-29T15:26:23.337Z"
   },
   {
    "duration": 344,
    "start_time": "2023-05-29T15:26:54.222Z"
   },
   {
    "duration": 19,
    "start_time": "2023-05-29T15:27:08.968Z"
   },
   {
    "duration": 16,
    "start_time": "2023-05-29T15:27:39.477Z"
   },
   {
    "duration": 16,
    "start_time": "2023-05-29T15:28:02.457Z"
   },
   {
    "duration": 15,
    "start_time": "2023-05-29T15:29:03.689Z"
   },
   {
    "duration": 16,
    "start_time": "2023-05-29T15:29:13.041Z"
   },
   {
    "duration": 15,
    "start_time": "2023-05-29T15:29:59.274Z"
   },
   {
    "duration": 14,
    "start_time": "2023-05-29T15:33:29.585Z"
   },
   {
    "duration": 15,
    "start_time": "2023-05-29T15:33:49.326Z"
   },
   {
    "duration": 14,
    "start_time": "2023-05-29T15:34:11.801Z"
   },
   {
    "duration": 23,
    "start_time": "2023-05-29T15:39:06.634Z"
   },
   {
    "duration": 20,
    "start_time": "2023-05-29T15:42:17.262Z"
   },
   {
    "duration": 16,
    "start_time": "2023-05-29T15:54:57.474Z"
   },
   {
    "duration": 18,
    "start_time": "2023-05-29T15:55:18.072Z"
   },
   {
    "duration": 18,
    "start_time": "2023-05-29T15:56:04.950Z"
   },
   {
    "duration": 16,
    "start_time": "2023-05-29T16:01:03.521Z"
   },
   {
    "duration": 21,
    "start_time": "2023-05-29T16:01:16.921Z"
   },
   {
    "duration": 15,
    "start_time": "2023-05-29T16:01:45.835Z"
   },
   {
    "duration": 18,
    "start_time": "2023-05-29T16:01:59.586Z"
   },
   {
    "duration": 1878,
    "start_time": "2023-05-29T16:02:06.287Z"
   },
   {
    "duration": 20,
    "start_time": "2023-05-29T16:02:08.167Z"
   },
   {
    "duration": 570,
    "start_time": "2023-05-29T16:02:08.189Z"
   },
   {
    "duration": 6,
    "start_time": "2023-05-29T16:02:08.761Z"
   },
   {
    "duration": 8,
    "start_time": "2023-05-29T16:02:08.769Z"
   },
   {
    "duration": 21,
    "start_time": "2023-05-29T16:02:08.779Z"
   },
   {
    "duration": 11,
    "start_time": "2023-05-29T16:02:08.802Z"
   },
   {
    "duration": 153,
    "start_time": "2023-05-29T16:02:08.814Z"
   },
   {
    "duration": 338,
    "start_time": "2023-05-29T16:27:27.619Z"
   },
   {
    "duration": 16,
    "start_time": "2023-05-29T16:29:12.262Z"
   },
   {
    "duration": 14,
    "start_time": "2023-05-29T16:43:23.279Z"
   },
   {
    "duration": 10,
    "start_time": "2023-05-29T16:46:15.588Z"
   },
   {
    "duration": 5,
    "start_time": "2023-05-29T16:46:25.159Z"
   },
   {
    "duration": 6,
    "start_time": "2023-05-29T16:46:41.942Z"
   },
   {
    "duration": 3,
    "start_time": "2023-05-29T16:46:49.806Z"
   },
   {
    "duration": 4,
    "start_time": "2023-05-29T16:47:26.895Z"
   },
   {
    "duration": 15,
    "start_time": "2023-05-29T16:47:34.227Z"
   },
   {
    "duration": 16,
    "start_time": "2023-05-29T16:49:31.115Z"
   },
   {
    "duration": 20678,
    "start_time": "2023-05-29T16:49:58.627Z"
   },
   {
    "duration": 18,
    "start_time": "2023-05-29T16:52:12.502Z"
   },
   {
    "duration": 16,
    "start_time": "2023-05-29T16:52:55.379Z"
   },
   {
    "duration": 1847,
    "start_time": "2023-05-29T16:53:06.604Z"
   },
   {
    "duration": 20,
    "start_time": "2023-05-29T16:53:08.456Z"
   },
   {
    "duration": 383,
    "start_time": "2023-05-29T16:53:08.478Z"
   },
   {
    "duration": 94,
    "start_time": "2023-05-29T16:53:08.863Z"
   },
   {
    "duration": 6,
    "start_time": "2023-05-29T16:53:08.960Z"
   },
   {
    "duration": 14,
    "start_time": "2023-05-29T16:53:08.968Z"
   },
   {
    "duration": 17,
    "start_time": "2023-05-29T16:53:08.984Z"
   },
   {
    "duration": 18782,
    "start_time": "2023-05-29T16:53:09.004Z"
   },
   {
    "duration": 14,
    "start_time": "2023-05-29T16:54:53.107Z"
   },
   {
    "duration": 1863,
    "start_time": "2023-05-29T16:55:00.338Z"
   },
   {
    "duration": 19,
    "start_time": "2023-05-29T16:55:02.203Z"
   },
   {
    "duration": 431,
    "start_time": "2023-05-29T16:55:02.226Z"
   },
   {
    "duration": 6,
    "start_time": "2023-05-29T16:55:02.659Z"
   },
   {
    "duration": 9,
    "start_time": "2023-05-29T16:55:02.757Z"
   },
   {
    "duration": 9,
    "start_time": "2023-05-29T16:55:02.768Z"
   },
   {
    "duration": 6,
    "start_time": "2023-05-29T16:55:02.779Z"
   },
   {
    "duration": 17448,
    "start_time": "2023-05-29T16:55:02.787Z"
   },
   {
    "duration": 1863,
    "start_time": "2023-05-29T16:57:19.548Z"
   },
   {
    "duration": 18,
    "start_time": "2023-05-29T16:57:21.413Z"
   },
   {
    "duration": 424,
    "start_time": "2023-05-29T16:57:21.433Z"
   },
   {
    "duration": 7,
    "start_time": "2023-05-29T16:57:21.860Z"
   },
   {
    "duration": 7,
    "start_time": "2023-05-29T16:57:21.956Z"
   },
   {
    "duration": 17,
    "start_time": "2023-05-29T16:57:21.966Z"
   },
   {
    "duration": 12,
    "start_time": "2023-05-29T16:57:21.985Z"
   },
   {
    "duration": 53625,
    "start_time": "2023-05-29T16:57:21.999Z"
   },
   {
    "duration": 10,
    "start_time": "2023-05-29T16:58:33.576Z"
   },
   {
    "duration": 1777,
    "start_time": "2023-05-29T17:03:54.364Z"
   },
   {
    "duration": 19,
    "start_time": "2023-05-29T17:03:56.144Z"
   },
   {
    "duration": 392,
    "start_time": "2023-05-29T17:03:56.165Z"
   },
   {
    "duration": 97,
    "start_time": "2023-05-29T17:03:56.561Z"
   },
   {
    "duration": 11,
    "start_time": "2023-05-29T17:03:56.661Z"
   },
   {
    "duration": 11,
    "start_time": "2023-05-29T17:03:56.674Z"
   },
   {
    "duration": 4,
    "start_time": "2023-05-29T17:03:56.687Z"
   },
   {
    "duration": 51,
    "start_time": "2023-05-29T17:03:56.693Z"
   },
   {
    "duration": 0,
    "start_time": "2023-05-29T17:03:56.746Z"
   },
   {
    "duration": 1887,
    "start_time": "2023-05-29T17:05:17.052Z"
   },
   {
    "duration": 18,
    "start_time": "2023-05-29T17:05:18.941Z"
   },
   {
    "duration": 399,
    "start_time": "2023-05-29T17:05:18.961Z"
   },
   {
    "duration": 96,
    "start_time": "2023-05-29T17:05:19.362Z"
   },
   {
    "duration": 4,
    "start_time": "2023-05-29T17:05:19.460Z"
   },
   {
    "duration": 13,
    "start_time": "2023-05-29T17:05:19.465Z"
   },
   {
    "duration": 8,
    "start_time": "2023-05-29T17:05:19.480Z"
   },
   {
    "duration": 49866,
    "start_time": "2023-05-29T17:05:19.490Z"
   },
   {
    "duration": 9,
    "start_time": "2023-05-29T17:06:09.358Z"
   },
   {
    "duration": 5,
    "start_time": "2023-05-29T17:07:04.748Z"
   },
   {
    "duration": 5,
    "start_time": "2023-05-29T17:07:09.819Z"
   },
   {
    "duration": 1785,
    "start_time": "2023-05-29T17:13:37.224Z"
   },
   {
    "duration": 19,
    "start_time": "2023-05-29T17:13:39.011Z"
   },
   {
    "duration": 425,
    "start_time": "2023-05-29T17:13:39.034Z"
   },
   {
    "duration": 96,
    "start_time": "2023-05-29T17:13:39.461Z"
   },
   {
    "duration": 19,
    "start_time": "2023-05-29T17:13:39.559Z"
   },
   {
    "duration": 5,
    "start_time": "2023-05-29T17:13:39.580Z"
   },
   {
    "duration": 5,
    "start_time": "2023-05-29T17:13:39.586Z"
   },
   {
    "duration": 51909,
    "start_time": "2023-05-29T17:13:39.592Z"
   },
   {
    "duration": 10,
    "start_time": "2023-05-29T17:14:31.504Z"
   },
   {
    "duration": 36,
    "start_time": "2023-05-29T17:14:31.517Z"
   },
   {
    "duration": 1791,
    "start_time": "2023-05-29T17:20:03.593Z"
   },
   {
    "duration": 18,
    "start_time": "2023-05-29T17:20:05.386Z"
   },
   {
    "duration": 451,
    "start_time": "2023-05-29T17:20:05.406Z"
   },
   {
    "duration": 97,
    "start_time": "2023-05-29T17:20:05.860Z"
   },
   {
    "duration": 3,
    "start_time": "2023-05-29T17:20:05.959Z"
   },
   {
    "duration": 12,
    "start_time": "2023-05-29T17:20:05.963Z"
   },
   {
    "duration": 9,
    "start_time": "2023-05-29T17:20:05.977Z"
   },
   {
    "duration": 62,
    "start_time": "2023-05-29T17:20:05.988Z"
   },
   {
    "duration": 0,
    "start_time": "2023-05-29T17:20:06.051Z"
   },
   {
    "duration": 1744,
    "start_time": "2023-05-29T17:36:52.395Z"
   },
   {
    "duration": 18,
    "start_time": "2023-05-29T17:36:54.141Z"
   },
   {
    "duration": 397,
    "start_time": "2023-05-29T17:36:54.161Z"
   },
   {
    "duration": 95,
    "start_time": "2023-05-29T17:36:54.560Z"
   },
   {
    "duration": 3,
    "start_time": "2023-05-29T17:36:54.658Z"
   },
   {
    "duration": 9,
    "start_time": "2023-05-29T17:36:54.662Z"
   },
   {
    "duration": 5,
    "start_time": "2023-05-29T17:36:54.673Z"
   },
   {
    "duration": 4421,
    "start_time": "2023-05-29T17:36:54.679Z"
   },
   {
    "duration": 10,
    "start_time": "2023-05-29T17:36:59.102Z"
   },
   {
    "duration": 3691,
    "start_time": "2023-05-29T19:28:05.198Z"
   },
   {
    "duration": 22,
    "start_time": "2023-05-29T19:28:08.896Z"
   },
   {
    "duration": 382,
    "start_time": "2023-05-29T19:28:08.920Z"
   },
   {
    "duration": 65,
    "start_time": "2023-05-29T19:28:09.311Z"
   },
   {
    "duration": 23,
    "start_time": "2023-05-29T19:28:09.382Z"
   },
   {
    "duration": 6,
    "start_time": "2023-05-29T19:28:09.410Z"
   },
   {
    "duration": 3,
    "start_time": "2023-05-29T19:28:09.418Z"
   },
   {
    "duration": 4989,
    "start_time": "2023-05-29T19:28:09.422Z"
   },
   {
    "duration": 11,
    "start_time": "2023-05-29T19:28:14.419Z"
   },
   {
    "duration": 1923,
    "start_time": "2023-05-29T19:32:52.706Z"
   },
   {
    "duration": 16,
    "start_time": "2023-05-29T19:32:54.631Z"
   },
   {
    "duration": 257,
    "start_time": "2023-05-29T19:32:54.649Z"
   },
   {
    "duration": 11,
    "start_time": "2023-05-29T19:32:54.978Z"
   },
   {
    "duration": 89,
    "start_time": "2023-05-29T19:32:54.993Z"
   },
   {
    "duration": 15,
    "start_time": "2023-05-29T19:32:55.090Z"
   },
   {
    "duration": 10,
    "start_time": "2023-05-29T19:32:55.107Z"
   },
   {
    "duration": 4646,
    "start_time": "2023-05-29T19:32:55.118Z"
   },
   {
    "duration": 14,
    "start_time": "2023-05-29T19:32:59.766Z"
   },
   {
    "duration": 1876,
    "start_time": "2023-05-29T19:40:54.513Z"
   },
   {
    "duration": 19,
    "start_time": "2023-05-29T19:40:56.392Z"
   },
   {
    "duration": 375,
    "start_time": "2023-05-29T19:40:56.413Z"
   },
   {
    "duration": 16,
    "start_time": "2023-05-29T19:40:56.790Z"
   },
   {
    "duration": 71,
    "start_time": "2023-05-29T19:40:56.811Z"
   },
   {
    "duration": 8,
    "start_time": "2023-05-29T19:40:56.889Z"
   },
   {
    "duration": 6,
    "start_time": "2023-05-29T19:40:56.901Z"
   },
   {
    "duration": 4643,
    "start_time": "2023-05-29T19:40:56.908Z"
   },
   {
    "duration": 8,
    "start_time": "2023-05-29T19:41:01.553Z"
   },
   {
    "duration": 1937,
    "start_time": "2023-05-30T01:33:54.181Z"
   },
   {
    "duration": 19,
    "start_time": "2023-05-30T01:33:56.121Z"
   },
   {
    "duration": 504,
    "start_time": "2023-05-30T01:33:56.142Z"
   },
   {
    "duration": 94,
    "start_time": "2023-05-30T01:33:56.655Z"
   },
   {
    "duration": 11,
    "start_time": "2023-05-30T01:33:56.751Z"
   },
   {
    "duration": 8,
    "start_time": "2023-05-30T01:33:56.764Z"
   },
   {
    "duration": 6,
    "start_time": "2023-05-30T01:33:56.773Z"
   },
   {
    "duration": 7624,
    "start_time": "2023-05-30T01:33:56.780Z"
   },
   {
    "duration": 9,
    "start_time": "2023-05-30T01:34:04.406Z"
   },
   {
    "duration": 1711,
    "start_time": "2023-05-30T01:35:43.140Z"
   },
   {
    "duration": 18,
    "start_time": "2023-05-30T01:35:44.853Z"
   },
   {
    "duration": 475,
    "start_time": "2023-05-30T01:35:44.872Z"
   },
   {
    "duration": 97,
    "start_time": "2023-05-30T01:35:45.350Z"
   },
   {
    "duration": 16,
    "start_time": "2023-05-30T01:35:45.449Z"
   },
   {
    "duration": 15,
    "start_time": "2023-05-30T01:35:45.466Z"
   },
   {
    "duration": 11,
    "start_time": "2023-05-30T01:35:45.482Z"
   },
   {
    "duration": 9699,
    "start_time": "2023-05-30T01:35:45.495Z"
   },
   {
    "duration": 9,
    "start_time": "2023-05-30T01:35:55.196Z"
   },
   {
    "duration": 93,
    "start_time": "2023-05-30T01:36:59.613Z"
   },
   {
    "duration": 8,
    "start_time": "2023-05-30T01:37:12.016Z"
   },
   {
    "duration": 7,
    "start_time": "2023-05-30T01:37:33.757Z"
   },
   {
    "duration": 2487,
    "start_time": "2023-05-30T11:09:34.606Z"
   },
   {
    "duration": 15,
    "start_time": "2023-05-30T11:09:37.095Z"
   },
   {
    "duration": 426,
    "start_time": "2023-05-30T11:09:37.111Z"
   },
   {
    "duration": 7,
    "start_time": "2023-05-30T11:09:37.540Z"
   },
   {
    "duration": 102,
    "start_time": "2023-05-30T11:09:37.549Z"
   },
   {
    "duration": 29,
    "start_time": "2023-05-30T11:09:37.653Z"
   },
   {
    "duration": 10,
    "start_time": "2023-05-30T11:09:37.684Z"
   },
   {
    "duration": 18,
    "start_time": "2023-05-30T11:09:37.695Z"
   },
   {
    "duration": 10,
    "start_time": "2023-05-30T11:09:37.715Z"
   },
   {
    "duration": 128,
    "start_time": "2023-05-30T11:09:37.727Z"
   },
   {
    "duration": 0,
    "start_time": "2023-05-30T11:09:37.858Z"
   },
   {
    "duration": 1784,
    "start_time": "2023-05-30T11:10:47.100Z"
   },
   {
    "duration": 15,
    "start_time": "2023-05-30T11:10:48.886Z"
   },
   {
    "duration": 311,
    "start_time": "2023-05-30T11:10:48.902Z"
   },
   {
    "duration": 0,
    "start_time": "2023-05-30T11:10:49.215Z"
   },
   {
    "duration": 0,
    "start_time": "2023-05-30T11:10:49.216Z"
   },
   {
    "duration": 0,
    "start_time": "2023-05-30T11:10:49.218Z"
   },
   {
    "duration": 0,
    "start_time": "2023-05-30T11:10:49.219Z"
   },
   {
    "duration": 0,
    "start_time": "2023-05-30T11:10:49.219Z"
   },
   {
    "duration": 0,
    "start_time": "2023-05-30T11:10:49.225Z"
   },
   {
    "duration": 0,
    "start_time": "2023-05-30T11:10:49.226Z"
   },
   {
    "duration": 0,
    "start_time": "2023-05-30T11:10:49.227Z"
   },
   {
    "duration": 1912,
    "start_time": "2023-05-30T11:11:41.209Z"
   },
   {
    "duration": 19,
    "start_time": "2023-05-30T11:11:43.122Z"
   },
   {
    "duration": 299,
    "start_time": "2023-05-30T11:11:43.143Z"
   },
   {
    "duration": 90,
    "start_time": "2023-05-30T11:11:43.448Z"
   },
   {
    "duration": 16,
    "start_time": "2023-05-30T11:11:43.548Z"
   },
   {
    "duration": 21,
    "start_time": "2023-05-30T11:11:43.566Z"
   },
   {
    "duration": 18,
    "start_time": "2023-05-30T11:11:43.589Z"
   },
   {
    "duration": 45,
    "start_time": "2023-05-30T11:11:43.609Z"
   },
   {
    "duration": 19,
    "start_time": "2023-05-30T11:11:43.656Z"
   },
   {
    "duration": 3537,
    "start_time": "2023-05-30T11:11:43.678Z"
   },
   {
    "duration": 0,
    "start_time": "2023-05-30T11:11:47.217Z"
   },
   {
    "duration": 1907,
    "start_time": "2023-05-30T11:13:50.854Z"
   },
   {
    "duration": 18,
    "start_time": "2023-05-30T11:13:52.763Z"
   },
   {
    "duration": 119,
    "start_time": "2023-05-30T11:13:52.786Z"
   },
   {
    "duration": 1,
    "start_time": "2023-05-30T11:13:52.907Z"
   },
   {
    "duration": 0,
    "start_time": "2023-05-30T11:13:52.909Z"
   },
   {
    "duration": 0,
    "start_time": "2023-05-30T11:13:52.910Z"
   },
   {
    "duration": 0,
    "start_time": "2023-05-30T11:13:52.912Z"
   },
   {
    "duration": 0,
    "start_time": "2023-05-30T11:13:52.913Z"
   },
   {
    "duration": 0,
    "start_time": "2023-05-30T11:13:52.915Z"
   },
   {
    "duration": 0,
    "start_time": "2023-05-30T11:13:52.916Z"
   },
   {
    "duration": 0,
    "start_time": "2023-05-30T11:13:52.918Z"
   },
   {
    "duration": 1947,
    "start_time": "2023-05-30T11:14:18.413Z"
   },
   {
    "duration": 18,
    "start_time": "2023-05-30T11:14:20.362Z"
   },
   {
    "duration": 275,
    "start_time": "2023-05-30T11:14:20.382Z"
   },
   {
    "duration": 25,
    "start_time": "2023-05-30T11:14:20.725Z"
   },
   {
    "duration": 14,
    "start_time": "2023-05-30T11:14:20.759Z"
   },
   {
    "duration": 55,
    "start_time": "2023-05-30T11:14:20.775Z"
   },
   {
    "duration": 4,
    "start_time": "2023-05-30T11:14:20.833Z"
   },
   {
    "duration": 35,
    "start_time": "2023-05-30T11:14:20.840Z"
   },
   {
    "duration": 30,
    "start_time": "2023-05-30T11:14:20.876Z"
   },
   {
    "duration": 182,
    "start_time": "2023-05-30T11:14:20.909Z"
   },
   {
    "duration": 0,
    "start_time": "2023-05-30T11:14:21.093Z"
   },
   {
    "duration": 2000,
    "start_time": "2023-05-30T11:15:31.103Z"
   },
   {
    "duration": 28,
    "start_time": "2023-05-30T11:15:33.105Z"
   },
   {
    "duration": 142,
    "start_time": "2023-05-30T11:15:33.136Z"
   },
   {
    "duration": 0,
    "start_time": "2023-05-30T11:15:33.281Z"
   },
   {
    "duration": 0,
    "start_time": "2023-05-30T11:15:33.282Z"
   },
   {
    "duration": 0,
    "start_time": "2023-05-30T11:15:33.283Z"
   },
   {
    "duration": 0,
    "start_time": "2023-05-30T11:15:33.290Z"
   },
   {
    "duration": 0,
    "start_time": "2023-05-30T11:15:33.291Z"
   },
   {
    "duration": 0,
    "start_time": "2023-05-30T11:15:33.293Z"
   },
   {
    "duration": 0,
    "start_time": "2023-05-30T11:15:33.294Z"
   },
   {
    "duration": 0,
    "start_time": "2023-05-30T11:15:33.295Z"
   },
   {
    "duration": 1725,
    "start_time": "2023-05-30T11:17:06.996Z"
   },
   {
    "duration": 17,
    "start_time": "2023-05-30T11:17:08.726Z"
   },
   {
    "duration": 261,
    "start_time": "2023-05-30T11:17:08.744Z"
   },
   {
    "duration": 0,
    "start_time": "2023-05-30T11:17:09.006Z"
   },
   {
    "duration": 0,
    "start_time": "2023-05-30T11:17:09.007Z"
   },
   {
    "duration": 0,
    "start_time": "2023-05-30T11:17:09.008Z"
   },
   {
    "duration": 0,
    "start_time": "2023-05-30T11:17:09.009Z"
   },
   {
    "duration": 0,
    "start_time": "2023-05-30T11:17:09.010Z"
   },
   {
    "duration": 0,
    "start_time": "2023-05-30T11:17:09.011Z"
   },
   {
    "duration": 0,
    "start_time": "2023-05-30T11:17:09.011Z"
   },
   {
    "duration": 0,
    "start_time": "2023-05-30T11:17:09.012Z"
   },
   {
    "duration": 2093,
    "start_time": "2023-05-30T11:18:28.365Z"
   },
   {
    "duration": 16,
    "start_time": "2023-05-30T11:18:30.460Z"
   },
   {
    "duration": 271,
    "start_time": "2023-05-30T11:18:30.478Z"
   },
   {
    "duration": 112,
    "start_time": "2023-05-30T11:18:30.757Z"
   },
   {
    "duration": 61,
    "start_time": "2023-05-30T11:18:30.873Z"
   },
   {
    "duration": 24,
    "start_time": "2023-05-30T11:18:30.939Z"
   },
   {
    "duration": 12,
    "start_time": "2023-05-30T11:18:30.965Z"
   },
   {
    "duration": 117,
    "start_time": "2023-05-30T11:18:30.979Z"
   },
   {
    "duration": 159,
    "start_time": "2023-05-30T11:18:31.098Z"
   },
   {
    "duration": 236,
    "start_time": "2023-05-30T11:18:31.259Z"
   },
   {
    "duration": 0,
    "start_time": "2023-05-30T11:18:31.497Z"
   },
   {
    "duration": 2312,
    "start_time": "2023-05-30T11:19:32.159Z"
   },
   {
    "duration": 16,
    "start_time": "2023-05-30T11:19:34.473Z"
   },
   {
    "duration": 124,
    "start_time": "2023-05-30T11:19:34.491Z"
   },
   {
    "duration": 0,
    "start_time": "2023-05-30T11:19:34.617Z"
   },
   {
    "duration": 0,
    "start_time": "2023-05-30T11:19:34.618Z"
   },
   {
    "duration": 0,
    "start_time": "2023-05-30T11:19:34.619Z"
   },
   {
    "duration": 0,
    "start_time": "2023-05-30T11:19:34.621Z"
   },
   {
    "duration": 0,
    "start_time": "2023-05-30T11:19:34.622Z"
   },
   {
    "duration": 0,
    "start_time": "2023-05-30T11:19:34.623Z"
   },
   {
    "duration": 0,
    "start_time": "2023-05-30T11:19:34.634Z"
   },
   {
    "duration": 0,
    "start_time": "2023-05-30T11:19:34.635Z"
   },
   {
    "duration": 1868,
    "start_time": "2023-05-30T11:21:22.985Z"
   },
   {
    "duration": 17,
    "start_time": "2023-05-30T11:21:24.856Z"
   },
   {
    "duration": 274,
    "start_time": "2023-05-30T11:21:24.874Z"
   },
   {
    "duration": 77,
    "start_time": "2023-05-30T11:21:25.150Z"
   },
   {
    "duration": 27,
    "start_time": "2023-05-30T11:21:25.228Z"
   },
   {
    "duration": 12,
    "start_time": "2023-05-30T11:21:25.256Z"
   },
   {
    "duration": 8,
    "start_time": "2023-05-30T11:21:25.269Z"
   },
   {
    "duration": 11,
    "start_time": "2023-05-30T11:21:25.279Z"
   },
   {
    "duration": 6,
    "start_time": "2023-05-30T11:21:25.291Z"
   },
   {
    "duration": 9603,
    "start_time": "2023-05-30T11:21:25.299Z"
   },
   {
    "duration": 9,
    "start_time": "2023-05-30T11:21:34.903Z"
   },
   {
    "duration": 2206,
    "start_time": "2023-05-30T11:25:02.205Z"
   },
   {
    "duration": 26,
    "start_time": "2023-05-30T11:25:04.413Z"
   },
   {
    "duration": 518,
    "start_time": "2023-05-30T11:25:04.443Z"
   },
   {
    "duration": 0,
    "start_time": "2023-05-30T11:25:04.965Z"
   },
   {
    "duration": 0,
    "start_time": "2023-05-30T11:25:04.967Z"
   },
   {
    "duration": 0,
    "start_time": "2023-05-30T11:25:04.969Z"
   },
   {
    "duration": 0,
    "start_time": "2023-05-30T11:25:04.970Z"
   },
   {
    "duration": 0,
    "start_time": "2023-05-30T11:25:04.972Z"
   },
   {
    "duration": 0,
    "start_time": "2023-05-30T11:25:04.974Z"
   },
   {
    "duration": 0,
    "start_time": "2023-05-30T11:25:04.976Z"
   },
   {
    "duration": 0,
    "start_time": "2023-05-30T11:25:04.976Z"
   },
   {
    "duration": 280,
    "start_time": "2023-05-30T11:25:32.646Z"
   },
   {
    "duration": 1855,
    "start_time": "2023-05-30T11:26:43.159Z"
   },
   {
    "duration": 30,
    "start_time": "2023-05-30T11:26:45.016Z"
   },
   {
    "duration": 305,
    "start_time": "2023-05-30T11:26:45.056Z"
   },
   {
    "duration": 14,
    "start_time": "2023-05-30T11:26:45.427Z"
   },
   {
    "duration": 38,
    "start_time": "2023-05-30T11:26:45.445Z"
   },
   {
    "duration": 45,
    "start_time": "2023-05-30T11:26:45.485Z"
   },
   {
    "duration": 6,
    "start_time": "2023-05-30T11:26:45.533Z"
   },
   {
    "duration": 17,
    "start_time": "2023-05-30T11:26:45.541Z"
   },
   {
    "duration": 38,
    "start_time": "2023-05-30T11:26:45.560Z"
   },
   {
    "duration": 9962,
    "start_time": "2023-05-30T11:26:45.600Z"
   },
   {
    "duration": 12,
    "start_time": "2023-05-30T11:26:55.563Z"
   },
   {
    "duration": 1876,
    "start_time": "2023-05-30T11:28:29.447Z"
   },
   {
    "duration": 29,
    "start_time": "2023-05-30T11:28:31.327Z"
   },
   {
    "duration": 356,
    "start_time": "2023-05-30T11:28:31.362Z"
   },
   {
    "duration": 0,
    "start_time": "2023-05-30T11:28:31.720Z"
   },
   {
    "duration": 0,
    "start_time": "2023-05-30T11:28:31.721Z"
   },
   {
    "duration": 0,
    "start_time": "2023-05-30T11:28:31.722Z"
   },
   {
    "duration": 0,
    "start_time": "2023-05-30T11:28:31.724Z"
   },
   {
    "duration": 0,
    "start_time": "2023-05-30T11:28:31.725Z"
   },
   {
    "duration": 0,
    "start_time": "2023-05-30T11:28:31.726Z"
   },
   {
    "duration": 0,
    "start_time": "2023-05-30T11:28:31.726Z"
   },
   {
    "duration": 0,
    "start_time": "2023-05-30T11:28:31.727Z"
   },
   {
    "duration": 527,
    "start_time": "2023-05-30T11:30:11.703Z"
   },
   {
    "duration": 474,
    "start_time": "2023-05-30T11:31:52.955Z"
   },
   {
    "duration": 11,
    "start_time": "2023-05-30T11:35:11.431Z"
   },
   {
    "duration": 11,
    "start_time": "2023-05-30T11:35:21.554Z"
   },
   {
    "duration": 55,
    "start_time": "2023-05-30T11:36:11.061Z"
   },
   {
    "duration": 104,
    "start_time": "2023-05-30T11:37:11.675Z"
   },
   {
    "duration": 106,
    "start_time": "2023-05-30T11:37:41.750Z"
   },
   {
    "duration": 118,
    "start_time": "2023-05-30T11:37:47.393Z"
   },
   {
    "duration": 87,
    "start_time": "2023-05-30T11:37:54.222Z"
   },
   {
    "duration": 99,
    "start_time": "2023-05-30T11:38:07.366Z"
   },
   {
    "duration": 12,
    "start_time": "2023-05-30T11:40:33.002Z"
   },
   {
    "duration": 28,
    "start_time": "2023-05-30T11:40:57.384Z"
   },
   {
    "duration": 11,
    "start_time": "2023-05-30T11:50:08.697Z"
   },
   {
    "duration": 2051,
    "start_time": "2023-05-30T11:50:53.171Z"
   },
   {
    "duration": 182,
    "start_time": "2023-05-30T11:50:55.228Z"
   },
   {
    "duration": 40,
    "start_time": "2023-05-30T11:50:55.411Z"
   },
   {
    "duration": 165,
    "start_time": "2023-05-30T11:50:55.458Z"
   },
   {
    "duration": 0,
    "start_time": "2023-05-30T11:50:55.633Z"
   },
   {
    "duration": 0,
    "start_time": "2023-05-30T11:50:55.634Z"
   },
   {
    "duration": 0,
    "start_time": "2023-05-30T11:50:55.634Z"
   },
   {
    "duration": 0,
    "start_time": "2023-05-30T11:50:55.636Z"
   },
   {
    "duration": 0,
    "start_time": "2023-05-30T11:50:55.637Z"
   },
   {
    "duration": 0,
    "start_time": "2023-05-30T11:50:55.640Z"
   },
   {
    "duration": 0,
    "start_time": "2023-05-30T11:50:55.641Z"
   },
   {
    "duration": 0,
    "start_time": "2023-05-30T11:50:55.641Z"
   },
   {
    "duration": 164,
    "start_time": "2023-05-30T11:51:54.656Z"
   },
   {
    "duration": 2082,
    "start_time": "2023-05-30T11:52:01.012Z"
   },
   {
    "duration": 168,
    "start_time": "2023-05-30T11:52:03.097Z"
   },
   {
    "duration": 29,
    "start_time": "2023-05-30T11:52:03.267Z"
   },
   {
    "duration": 208,
    "start_time": "2023-05-30T11:52:03.298Z"
   },
   {
    "duration": 0,
    "start_time": "2023-05-30T11:52:03.508Z"
   },
   {
    "duration": 1,
    "start_time": "2023-05-30T11:52:03.509Z"
   },
   {
    "duration": 0,
    "start_time": "2023-05-30T11:52:03.511Z"
   },
   {
    "duration": 0,
    "start_time": "2023-05-30T11:52:03.528Z"
   },
   {
    "duration": 0,
    "start_time": "2023-05-30T11:52:03.529Z"
   },
   {
    "duration": 0,
    "start_time": "2023-05-30T11:52:03.532Z"
   },
   {
    "duration": 0,
    "start_time": "2023-05-30T11:52:03.537Z"
   },
   {
    "duration": 0,
    "start_time": "2023-05-30T11:52:03.540Z"
   },
   {
    "duration": 2205,
    "start_time": "2023-05-30T11:53:28.373Z"
   },
   {
    "duration": 211,
    "start_time": "2023-05-30T11:53:30.580Z"
   },
   {
    "duration": 53,
    "start_time": "2023-05-30T11:53:30.793Z"
   },
   {
    "duration": 315,
    "start_time": "2023-05-30T11:53:30.858Z"
   },
   {
    "duration": 0,
    "start_time": "2023-05-30T11:53:31.179Z"
   },
   {
    "duration": 0,
    "start_time": "2023-05-30T11:53:31.180Z"
   },
   {
    "duration": 0,
    "start_time": "2023-05-30T11:53:31.181Z"
   },
   {
    "duration": 0,
    "start_time": "2023-05-30T11:53:31.183Z"
   },
   {
    "duration": 0,
    "start_time": "2023-05-30T11:53:31.185Z"
   },
   {
    "duration": 0,
    "start_time": "2023-05-30T11:53:31.187Z"
   },
   {
    "duration": 0,
    "start_time": "2023-05-30T11:53:31.189Z"
   },
   {
    "duration": 0,
    "start_time": "2023-05-30T11:53:31.190Z"
   },
   {
    "duration": 89,
    "start_time": "2023-05-30T11:55:16.951Z"
   },
   {
    "duration": 5,
    "start_time": "2023-05-30T11:55:49.674Z"
   },
   {
    "duration": 23,
    "start_time": "2023-05-30T11:56:17.953Z"
   },
   {
    "duration": 1913,
    "start_time": "2023-05-30T11:56:25.751Z"
   },
   {
    "duration": 179,
    "start_time": "2023-05-30T11:56:27.666Z"
   },
   {
    "duration": 30,
    "start_time": "2023-05-30T11:56:27.847Z"
   },
   {
    "duration": 140,
    "start_time": "2023-05-30T11:56:27.879Z"
   },
   {
    "duration": 0,
    "start_time": "2023-05-30T11:56:28.021Z"
   },
   {
    "duration": 0,
    "start_time": "2023-05-30T11:56:28.023Z"
   },
   {
    "duration": 0,
    "start_time": "2023-05-30T11:56:28.024Z"
   },
   {
    "duration": 0,
    "start_time": "2023-05-30T11:56:28.028Z"
   },
   {
    "duration": 0,
    "start_time": "2023-05-30T11:56:28.031Z"
   },
   {
    "duration": 0,
    "start_time": "2023-05-30T11:56:28.034Z"
   },
   {
    "duration": 0,
    "start_time": "2023-05-30T11:56:28.035Z"
   },
   {
    "duration": 0,
    "start_time": "2023-05-30T11:56:28.035Z"
   },
   {
    "duration": 0,
    "start_time": "2023-05-30T11:56:28.037Z"
   },
   {
    "duration": 178,
    "start_time": "2023-05-30T11:57:54.449Z"
   },
   {
    "duration": 2065,
    "start_time": "2023-05-30T11:58:15.525Z"
   },
   {
    "duration": 178,
    "start_time": "2023-05-30T11:58:17.592Z"
   },
   {
    "duration": 36,
    "start_time": "2023-05-30T11:58:17.773Z"
   },
   {
    "duration": 158,
    "start_time": "2023-05-30T11:58:17.811Z"
   },
   {
    "duration": 0,
    "start_time": "2023-05-30T11:58:17.971Z"
   },
   {
    "duration": 0,
    "start_time": "2023-05-30T11:58:17.972Z"
   },
   {
    "duration": 0,
    "start_time": "2023-05-30T11:58:17.974Z"
   },
   {
    "duration": 0,
    "start_time": "2023-05-30T11:58:17.975Z"
   },
   {
    "duration": 0,
    "start_time": "2023-05-30T11:58:17.977Z"
   },
   {
    "duration": 0,
    "start_time": "2023-05-30T11:58:17.978Z"
   },
   {
    "duration": 0,
    "start_time": "2023-05-30T11:58:17.980Z"
   },
   {
    "duration": 0,
    "start_time": "2023-05-30T11:58:17.981Z"
   },
   {
    "duration": 0,
    "start_time": "2023-05-30T11:58:17.983Z"
   },
   {
    "duration": 1746,
    "start_time": "2023-05-30T11:59:06.642Z"
   },
   {
    "duration": 148,
    "start_time": "2023-05-30T11:59:08.390Z"
   },
   {
    "duration": 27,
    "start_time": "2023-05-30T11:59:08.540Z"
   },
   {
    "duration": 169,
    "start_time": "2023-05-30T11:59:08.568Z"
   },
   {
    "duration": 0,
    "start_time": "2023-05-30T11:59:08.741Z"
   },
   {
    "duration": 0,
    "start_time": "2023-05-30T11:59:08.742Z"
   },
   {
    "duration": 0,
    "start_time": "2023-05-30T11:59:08.744Z"
   },
   {
    "duration": 0,
    "start_time": "2023-05-30T11:59:08.745Z"
   },
   {
    "duration": 0,
    "start_time": "2023-05-30T11:59:08.747Z"
   },
   {
    "duration": 0,
    "start_time": "2023-05-30T11:59:08.748Z"
   },
   {
    "duration": 0,
    "start_time": "2023-05-30T11:59:08.749Z"
   },
   {
    "duration": 0,
    "start_time": "2023-05-30T11:59:08.751Z"
   },
   {
    "duration": 0,
    "start_time": "2023-05-30T11:59:08.752Z"
   },
   {
    "duration": 11,
    "start_time": "2023-05-30T11:59:40.844Z"
   },
   {
    "duration": 2014,
    "start_time": "2023-05-30T12:00:14.822Z"
   },
   {
    "duration": 4,
    "start_time": "2023-05-30T12:00:16.841Z"
   },
   {
    "duration": 62,
    "start_time": "2023-05-30T12:00:16.847Z"
   },
   {
    "duration": 9,
    "start_time": "2023-05-30T12:00:16.911Z"
   },
   {
    "duration": 152,
    "start_time": "2023-05-30T12:00:16.922Z"
   },
   {
    "duration": 0,
    "start_time": "2023-05-30T12:00:17.076Z"
   },
   {
    "duration": 0,
    "start_time": "2023-05-30T12:00:17.077Z"
   },
   {
    "duration": 0,
    "start_time": "2023-05-30T12:00:17.078Z"
   },
   {
    "duration": 0,
    "start_time": "2023-05-30T12:00:17.079Z"
   },
   {
    "duration": 0,
    "start_time": "2023-05-30T12:00:17.081Z"
   },
   {
    "duration": 0,
    "start_time": "2023-05-30T12:00:17.081Z"
   },
   {
    "duration": 0,
    "start_time": "2023-05-30T12:00:17.083Z"
   },
   {
    "duration": 0,
    "start_time": "2023-05-30T12:00:17.084Z"
   },
   {
    "duration": 0,
    "start_time": "2023-05-30T12:00:17.085Z"
   },
   {
    "duration": 1988,
    "start_time": "2023-05-30T12:01:17.556Z"
   },
   {
    "duration": 161,
    "start_time": "2023-05-30T12:01:19.546Z"
   },
   {
    "duration": 51,
    "start_time": "2023-05-30T12:01:19.708Z"
   },
   {
    "duration": 27,
    "start_time": "2023-05-30T12:01:19.762Z"
   },
   {
    "duration": 62,
    "start_time": "2023-05-30T12:01:19.790Z"
   },
   {
    "duration": 292,
    "start_time": "2023-05-30T12:01:19.857Z"
   },
   {
    "duration": 86,
    "start_time": "2023-05-30T12:01:20.151Z"
   },
   {
    "duration": 66,
    "start_time": "2023-05-30T12:01:20.241Z"
   },
   {
    "duration": 55,
    "start_time": "2023-05-30T12:01:20.309Z"
   },
   {
    "duration": 18,
    "start_time": "2023-05-30T12:01:20.366Z"
   },
   {
    "duration": 16,
    "start_time": "2023-05-30T12:01:20.385Z"
   },
   {
    "duration": 57,
    "start_time": "2023-05-30T12:01:20.402Z"
   },
   {
    "duration": 9936,
    "start_time": "2023-05-30T12:01:20.461Z"
   },
   {
    "duration": 9,
    "start_time": "2023-05-30T12:01:30.399Z"
   },
   {
    "duration": 151,
    "start_time": "2023-05-30T12:02:04.941Z"
   },
   {
    "duration": 1955,
    "start_time": "2023-05-30T12:02:09.829Z"
   },
   {
    "duration": 199,
    "start_time": "2023-05-30T12:02:11.787Z"
   },
   {
    "duration": 46,
    "start_time": "2023-05-30T12:02:11.988Z"
   },
   {
    "duration": 22,
    "start_time": "2023-05-30T12:02:12.039Z"
   },
   {
    "duration": 292,
    "start_time": "2023-05-30T12:02:12.064Z"
   },
   {
    "duration": 80,
    "start_time": "2023-05-30T12:02:12.358Z"
   },
   {
    "duration": 113,
    "start_time": "2023-05-30T12:02:12.442Z"
   },
   {
    "duration": 35,
    "start_time": "2023-05-30T12:02:12.557Z"
   },
   {
    "duration": 12,
    "start_time": "2023-05-30T12:02:12.593Z"
   },
   {
    "duration": 11,
    "start_time": "2023-05-30T12:02:12.607Z"
   },
   {
    "duration": 47,
    "start_time": "2023-05-30T12:02:12.620Z"
   },
   {
    "duration": 10164,
    "start_time": "2023-05-30T12:02:12.669Z"
   },
   {
    "duration": 16,
    "start_time": "2023-05-30T12:02:22.842Z"
   },
   {
    "duration": 415,
    "start_time": "2023-05-30T12:06:54.105Z"
   },
   {
    "duration": 155,
    "start_time": "2023-05-30T12:13:55.215Z"
   },
   {
    "duration": 2036,
    "start_time": "2023-05-30T12:14:06.159Z"
   },
   {
    "duration": 178,
    "start_time": "2023-05-30T12:14:08.197Z"
   },
   {
    "duration": 55,
    "start_time": "2023-05-30T12:14:08.377Z"
   },
   {
    "duration": 69,
    "start_time": "2023-05-30T12:14:08.433Z"
   },
   {
    "duration": 652,
    "start_time": "2023-05-30T12:14:08.505Z"
   },
   {
    "duration": 8,
    "start_time": "2023-05-30T12:14:09.164Z"
   },
   {
    "duration": 19,
    "start_time": "2023-05-30T12:14:09.174Z"
   },
   {
    "duration": 35,
    "start_time": "2023-05-30T12:14:09.195Z"
   },
   {
    "duration": 38,
    "start_time": "2023-05-30T12:14:09.231Z"
   },
   {
    "duration": 27,
    "start_time": "2023-05-30T12:14:09.271Z"
   },
   {
    "duration": 29,
    "start_time": "2023-05-30T12:14:09.301Z"
   },
   {
    "duration": 11313,
    "start_time": "2023-05-30T12:14:09.332Z"
   },
   {
    "duration": 12,
    "start_time": "2023-05-30T12:14:20.647Z"
   },
   {
    "duration": 2134,
    "start_time": "2023-05-30T12:15:53.566Z"
   },
   {
    "duration": 185,
    "start_time": "2023-05-30T12:15:55.701Z"
   },
   {
    "duration": 26,
    "start_time": "2023-05-30T12:15:55.888Z"
   },
   {
    "duration": 27,
    "start_time": "2023-05-30T12:15:55.929Z"
   },
   {
    "duration": 310,
    "start_time": "2023-05-30T12:15:55.958Z"
   },
   {
    "duration": 13,
    "start_time": "2023-05-30T12:15:56.326Z"
   },
   {
    "duration": 23,
    "start_time": "2023-05-30T12:15:56.345Z"
   },
   {
    "duration": 18,
    "start_time": "2023-05-30T12:15:56.371Z"
   },
   {
    "duration": 6,
    "start_time": "2023-05-30T12:15:56.391Z"
   },
   {
    "duration": 11,
    "start_time": "2023-05-30T12:15:56.400Z"
   },
   {
    "duration": 13,
    "start_time": "2023-05-30T12:15:56.413Z"
   },
   {
    "duration": 11866,
    "start_time": "2023-05-30T12:15:56.434Z"
   },
   {
    "duration": 14,
    "start_time": "2023-05-30T12:16:08.302Z"
   },
   {
    "duration": 2527,
    "start_time": "2023-05-30T12:16:51.022Z"
   },
   {
    "duration": 162,
    "start_time": "2023-05-30T12:16:53.553Z"
   },
   {
    "duration": 45,
    "start_time": "2023-05-30T12:16:53.717Z"
   },
   {
    "duration": 28,
    "start_time": "2023-05-30T12:16:53.769Z"
   },
   {
    "duration": 374,
    "start_time": "2023-05-30T12:16:53.799Z"
   },
   {
    "duration": 55,
    "start_time": "2023-05-30T12:16:54.175Z"
   },
   {
    "duration": 8,
    "start_time": "2023-05-30T12:16:54.236Z"
   },
   {
    "duration": 31,
    "start_time": "2023-05-30T12:16:54.258Z"
   },
   {
    "duration": 72,
    "start_time": "2023-05-30T12:16:54.292Z"
   },
   {
    "duration": 15,
    "start_time": "2023-05-30T12:16:54.370Z"
   },
   {
    "duration": 18,
    "start_time": "2023-05-30T12:16:54.387Z"
   },
   {
    "duration": 13477,
    "start_time": "2023-05-30T12:16:54.407Z"
   },
   {
    "duration": 14,
    "start_time": "2023-05-30T12:17:07.886Z"
   },
   {
    "duration": 1784,
    "start_time": "2023-05-30T12:18:45.262Z"
   },
   {
    "duration": 138,
    "start_time": "2023-05-30T12:18:47.048Z"
   },
   {
    "duration": 47,
    "start_time": "2023-05-30T12:18:47.190Z"
   },
   {
    "duration": 19,
    "start_time": "2023-05-30T12:18:47.240Z"
   },
   {
    "duration": 397,
    "start_time": "2023-05-30T12:18:47.260Z"
   },
   {
    "duration": 24,
    "start_time": "2023-05-30T12:18:47.724Z"
   },
   {
    "duration": 38,
    "start_time": "2023-05-30T12:18:47.755Z"
   },
   {
    "duration": 14,
    "start_time": "2023-05-30T12:18:47.795Z"
   },
   {
    "duration": 24,
    "start_time": "2023-05-30T12:18:47.811Z"
   },
   {
    "duration": 56,
    "start_time": "2023-05-30T12:18:47.836Z"
   },
   {
    "duration": 47,
    "start_time": "2023-05-30T12:18:47.893Z"
   },
   {
    "duration": 9655,
    "start_time": "2023-05-30T12:18:47.945Z"
   },
   {
    "duration": 10,
    "start_time": "2023-05-30T12:18:57.601Z"
   },
   {
    "duration": 2009,
    "start_time": "2023-05-30T12:20:12.047Z"
   },
   {
    "duration": 154,
    "start_time": "2023-05-30T12:20:14.058Z"
   },
   {
    "duration": 37,
    "start_time": "2023-05-30T12:20:14.214Z"
   },
   {
    "duration": 43,
    "start_time": "2023-05-30T12:20:14.257Z"
   },
   {
    "duration": 458,
    "start_time": "2023-05-30T12:20:14.302Z"
   },
   {
    "duration": 71,
    "start_time": "2023-05-30T12:20:14.768Z"
   },
   {
    "duration": 48,
    "start_time": "2023-05-30T12:20:14.846Z"
   },
   {
    "duration": 35,
    "start_time": "2023-05-30T12:20:14.897Z"
   },
   {
    "duration": 37,
    "start_time": "2023-05-30T12:20:14.934Z"
   },
   {
    "duration": 33,
    "start_time": "2023-05-30T12:20:14.973Z"
   },
   {
    "duration": 93,
    "start_time": "2023-05-30T12:20:15.008Z"
   },
   {
    "duration": 11287,
    "start_time": "2023-05-30T12:20:15.103Z"
   },
   {
    "duration": 10,
    "start_time": "2023-05-30T12:20:26.392Z"
   },
   {
    "duration": 2125,
    "start_time": "2023-05-30T12:23:03.533Z"
   },
   {
    "duration": 178,
    "start_time": "2023-05-30T12:23:05.661Z"
   },
   {
    "duration": 40,
    "start_time": "2023-05-30T12:23:05.845Z"
   },
   {
    "duration": 30,
    "start_time": "2023-05-30T12:23:05.887Z"
   },
   {
    "duration": 454,
    "start_time": "2023-05-30T12:23:05.919Z"
   },
   {
    "duration": 55,
    "start_time": "2023-05-30T12:23:06.384Z"
   },
   {
    "duration": 52,
    "start_time": "2023-05-30T12:23:06.441Z"
   },
   {
    "duration": 59,
    "start_time": "2023-05-30T12:23:06.494Z"
   },
   {
    "duration": 31,
    "start_time": "2023-05-30T12:23:06.561Z"
   },
   {
    "duration": 54,
    "start_time": "2023-05-30T12:23:06.593Z"
   },
   {
    "duration": 29,
    "start_time": "2023-05-30T12:23:06.657Z"
   },
   {
    "duration": 11010,
    "start_time": "2023-05-30T12:23:06.688Z"
   },
   {
    "duration": 9,
    "start_time": "2023-05-30T12:23:17.700Z"
   },
   {
    "duration": 2052,
    "start_time": "2023-05-30T12:23:58.060Z"
   },
   {
    "duration": 173,
    "start_time": "2023-05-30T12:24:00.114Z"
   },
   {
    "duration": 49,
    "start_time": "2023-05-30T12:24:00.291Z"
   },
   {
    "duration": 20,
    "start_time": "2023-05-30T12:24:00.355Z"
   },
   {
    "duration": 388,
    "start_time": "2023-05-30T12:24:00.377Z"
   },
   {
    "duration": 12,
    "start_time": "2023-05-30T12:24:00.768Z"
   },
   {
    "duration": 96,
    "start_time": "2023-05-30T12:24:00.782Z"
   },
   {
    "duration": 64,
    "start_time": "2023-05-30T12:24:00.880Z"
   },
   {
    "duration": 152,
    "start_time": "2023-05-30T12:24:00.945Z"
   },
   {
    "duration": 163,
    "start_time": "2023-05-30T12:24:01.099Z"
   },
   {
    "duration": 140,
    "start_time": "2023-05-30T12:24:01.264Z"
   },
   {
    "duration": 10988,
    "start_time": "2023-05-30T12:24:01.405Z"
   },
   {
    "duration": 9,
    "start_time": "2023-05-30T12:24:12.396Z"
   },
   {
    "duration": 2069,
    "start_time": "2023-05-30T12:25:26.654Z"
   },
   {
    "duration": 174,
    "start_time": "2023-05-30T12:25:28.725Z"
   },
   {
    "duration": 56,
    "start_time": "2023-05-30T12:25:28.900Z"
   },
   {
    "duration": 20,
    "start_time": "2023-05-30T12:25:28.959Z"
   },
   {
    "duration": 287,
    "start_time": "2023-05-30T12:25:28.981Z"
   },
   {
    "duration": 33,
    "start_time": "2023-05-30T12:25:29.328Z"
   },
   {
    "duration": 38,
    "start_time": "2023-05-30T12:25:29.369Z"
   },
   {
    "duration": 19,
    "start_time": "2023-05-30T12:25:29.409Z"
   },
   {
    "duration": 51,
    "start_time": "2023-05-30T12:25:29.430Z"
   },
   {
    "duration": 94,
    "start_time": "2023-05-30T12:25:29.483Z"
   },
   {
    "duration": 36,
    "start_time": "2023-05-30T12:25:29.579Z"
   },
   {
    "duration": 234,
    "start_time": "2023-05-30T12:25:29.616Z"
   },
   {
    "duration": 0,
    "start_time": "2023-05-30T12:25:29.853Z"
   },
   {
    "duration": 1933,
    "start_time": "2023-05-30T12:26:18.754Z"
   },
   {
    "duration": 166,
    "start_time": "2023-05-30T12:26:20.690Z"
   },
   {
    "duration": 27,
    "start_time": "2023-05-30T12:26:20.859Z"
   },
   {
    "duration": 16,
    "start_time": "2023-05-30T12:26:20.887Z"
   },
   {
    "duration": 427,
    "start_time": "2023-05-30T12:26:20.905Z"
   },
   {
    "duration": 23,
    "start_time": "2023-05-30T12:26:21.334Z"
   },
   {
    "duration": 69,
    "start_time": "2023-05-30T12:26:21.359Z"
   },
   {
    "duration": 5,
    "start_time": "2023-05-30T12:26:21.434Z"
   },
   {
    "duration": 22,
    "start_time": "2023-05-30T12:26:21.445Z"
   },
   {
    "duration": 13,
    "start_time": "2023-05-30T12:26:21.469Z"
   },
   {
    "duration": 9,
    "start_time": "2023-05-30T12:26:21.483Z"
   },
   {
    "duration": 11080,
    "start_time": "2023-05-30T12:26:21.493Z"
   },
   {
    "duration": 10,
    "start_time": "2023-05-30T12:26:32.574Z"
   },
   {
    "duration": 2140,
    "start_time": "2023-05-30T12:31:15.556Z"
   },
   {
    "duration": 198,
    "start_time": "2023-05-30T12:31:17.698Z"
   },
   {
    "duration": 53,
    "start_time": "2023-05-30T12:31:17.898Z"
   },
   {
    "duration": 25,
    "start_time": "2023-05-30T12:31:17.953Z"
   },
   {
    "duration": 449,
    "start_time": "2023-05-30T12:31:17.981Z"
   },
   {
    "duration": 29,
    "start_time": "2023-05-30T12:31:18.440Z"
   },
   {
    "duration": 9,
    "start_time": "2023-05-30T12:31:18.472Z"
   },
   {
    "duration": 57,
    "start_time": "2023-05-30T12:31:18.483Z"
   },
   {
    "duration": 26,
    "start_time": "2023-05-30T12:31:18.542Z"
   },
   {
    "duration": 13,
    "start_time": "2023-05-30T12:31:18.570Z"
   },
   {
    "duration": 8,
    "start_time": "2023-05-30T12:31:18.585Z"
   },
   {
    "duration": 4289,
    "start_time": "2023-05-30T12:31:18.595Z"
   },
   {
    "duration": 0,
    "start_time": "2023-05-30T12:31:22.886Z"
   },
   {
    "duration": 2156,
    "start_time": "2023-05-30T12:32:59.849Z"
   },
   {
    "duration": 160,
    "start_time": "2023-05-30T12:33:02.007Z"
   },
   {
    "duration": 26,
    "start_time": "2023-05-30T12:33:02.169Z"
   },
   {
    "duration": 35,
    "start_time": "2023-05-30T12:33:02.197Z"
   },
   {
    "duration": 403,
    "start_time": "2023-05-30T12:33:02.238Z"
   },
   {
    "duration": 77,
    "start_time": "2023-05-30T12:33:02.651Z"
   },
   {
    "duration": 42,
    "start_time": "2023-05-30T12:33:02.735Z"
   },
   {
    "duration": 36,
    "start_time": "2023-05-30T12:33:02.778Z"
   },
   {
    "duration": 45,
    "start_time": "2023-05-30T12:33:02.815Z"
   },
   {
    "duration": 48,
    "start_time": "2023-05-30T12:33:02.862Z"
   },
   {
    "duration": 43,
    "start_time": "2023-05-30T12:33:02.913Z"
   },
   {
    "duration": 10447,
    "start_time": "2023-05-30T12:33:02.958Z"
   },
   {
    "duration": 26,
    "start_time": "2023-05-30T12:33:13.406Z"
   },
   {
    "duration": 7,
    "start_time": "2023-05-30T12:33:23.459Z"
   },
   {
    "duration": 148,
    "start_time": "2023-05-30T12:33:39.203Z"
   },
   {
    "duration": 10,
    "start_time": "2023-05-30T12:33:59.850Z"
   },
   {
    "duration": 21656,
    "start_time": "2023-05-30T12:34:18.206Z"
   },
   {
    "duration": 20,
    "start_time": "2023-05-30T12:35:46.840Z"
   },
   {
    "duration": 10,
    "start_time": "2023-05-30T12:38:31.982Z"
   },
   {
    "duration": 10,
    "start_time": "2023-05-30T12:39:43.375Z"
   },
   {
    "duration": 29,
    "start_time": "2023-05-30T12:39:51.161Z"
   },
   {
    "duration": 7,
    "start_time": "2023-05-30T12:40:11.680Z"
   },
   {
    "duration": 162,
    "start_time": "2023-05-30T12:40:20.653Z"
   },
   {
    "duration": 225,
    "start_time": "2023-05-30T12:40:31.355Z"
   },
   {
    "duration": 133,
    "start_time": "2023-05-30T12:47:15.253Z"
   },
   {
    "duration": 143,
    "start_time": "2023-05-30T12:47:26.155Z"
   },
   {
    "duration": 126,
    "start_time": "2023-05-30T12:47:39.078Z"
   },
   {
    "duration": 166,
    "start_time": "2023-05-30T12:47:47.184Z"
   },
   {
    "duration": 147,
    "start_time": "2023-05-30T13:14:28.195Z"
   },
   {
    "duration": 13,
    "start_time": "2023-05-30T13:14:48.902Z"
   },
   {
    "duration": 120,
    "start_time": "2023-05-30T13:15:00.487Z"
   },
   {
    "duration": 25,
    "start_time": "2023-05-30T13:17:54.355Z"
   },
   {
    "duration": 11,
    "start_time": "2023-05-30T13:18:55.507Z"
   },
   {
    "duration": 9,
    "start_time": "2023-05-30T13:19:14.153Z"
   },
   {
    "duration": 130,
    "start_time": "2023-05-30T13:19:27.706Z"
   },
   {
    "duration": 408,
    "start_time": "2023-05-30T13:20:36.103Z"
   },
   {
    "duration": 133,
    "start_time": "2023-05-30T13:20:51.738Z"
   },
   {
    "duration": 18,
    "start_time": "2023-05-30T13:21:24.538Z"
   },
   {
    "duration": 169,
    "start_time": "2023-05-30T13:22:39.609Z"
   },
   {
    "duration": 127,
    "start_time": "2023-05-30T13:22:43.683Z"
   },
   {
    "duration": 14,
    "start_time": "2023-05-30T23:58:41.378Z"
   },
   {
    "duration": 42,
    "start_time": "2023-05-31T19:39:39.441Z"
   },
   {
    "duration": 0,
    "start_time": "2023-05-31T19:39:39.484Z"
   },
   {
    "duration": 0,
    "start_time": "2023-05-31T19:39:39.485Z"
   },
   {
    "duration": 0,
    "start_time": "2023-05-31T19:39:39.486Z"
   },
   {
    "duration": 0,
    "start_time": "2023-05-31T19:39:39.487Z"
   },
   {
    "duration": 0,
    "start_time": "2023-05-31T19:39:39.488Z"
   },
   {
    "duration": 5,
    "start_time": "2023-05-31T19:39:39.489Z"
   },
   {
    "duration": 0,
    "start_time": "2023-05-31T19:39:39.495Z"
   },
   {
    "duration": 0,
    "start_time": "2023-05-31T19:39:39.496Z"
   },
   {
    "duration": 13,
    "start_time": "2023-05-31T19:39:39.502Z"
   },
   {
    "duration": 40,
    "start_time": "2023-05-31T19:39:39.517Z"
   },
   {
    "duration": 0,
    "start_time": "2023-05-31T19:39:39.558Z"
   },
   {
    "duration": 0,
    "start_time": "2023-05-31T19:39:39.559Z"
   },
   {
    "duration": 0,
    "start_time": "2023-05-31T19:39:39.560Z"
   },
   {
    "duration": 0,
    "start_time": "2023-05-31T19:39:39.561Z"
   },
   {
    "duration": 2,
    "start_time": "2023-05-31T19:40:21.762Z"
   },
   {
    "duration": 2239,
    "start_time": "2023-05-31T19:40:21.768Z"
   },
   {
    "duration": 117,
    "start_time": "2023-05-31T19:40:24.009Z"
   },
   {
    "duration": 25,
    "start_time": "2023-05-31T19:40:24.128Z"
   },
   {
    "duration": 12,
    "start_time": "2023-05-31T19:40:24.156Z"
   },
   {
    "duration": 263,
    "start_time": "2023-05-31T19:40:24.170Z"
   },
   {
    "duration": 89,
    "start_time": "2023-05-31T19:40:24.435Z"
   },
   {
    "duration": 91,
    "start_time": "2023-05-31T19:40:24.532Z"
   },
   {
    "duration": 9,
    "start_time": "2023-05-31T19:40:24.624Z"
   },
   {
    "duration": 5,
    "start_time": "2023-05-31T19:40:24.634Z"
   },
   {
    "duration": 10,
    "start_time": "2023-05-31T19:40:24.640Z"
   },
   {
    "duration": 4,
    "start_time": "2023-05-31T19:40:24.652Z"
   },
   {
    "duration": 3295,
    "start_time": "2023-05-31T19:40:24.658Z"
   },
   {
    "duration": 8,
    "start_time": "2023-05-31T19:40:27.955Z"
   },
   {
    "duration": 131,
    "start_time": "2023-05-31T19:40:27.965Z"
   },
   {
    "duration": 3,
    "start_time": "2023-06-01T00:05:47.260Z"
   },
   {
    "duration": 1926,
    "start_time": "2023-06-01T00:05:47.266Z"
   },
   {
    "duration": 148,
    "start_time": "2023-06-01T00:05:49.194Z"
   },
   {
    "duration": 35,
    "start_time": "2023-06-01T00:05:49.344Z"
   },
   {
    "duration": 17,
    "start_time": "2023-06-01T00:05:49.381Z"
   },
   {
    "duration": 268,
    "start_time": "2023-06-01T00:05:49.400Z"
   },
   {
    "duration": 7,
    "start_time": "2023-06-01T00:05:49.757Z"
   },
   {
    "duration": 98,
    "start_time": "2023-06-01T00:05:49.765Z"
   },
   {
    "duration": 8,
    "start_time": "2023-06-01T00:05:49.865Z"
   },
   {
    "duration": 8,
    "start_time": "2023-06-01T00:05:49.875Z"
   },
   {
    "duration": 12,
    "start_time": "2023-06-01T00:05:49.885Z"
   },
   {
    "duration": 17,
    "start_time": "2023-06-01T00:05:49.899Z"
   },
   {
    "duration": 4807,
    "start_time": "2023-06-01T00:05:49.918Z"
   },
   {
    "duration": 10,
    "start_time": "2023-06-01T00:05:54.726Z"
   },
   {
    "duration": 142,
    "start_time": "2023-06-01T00:05:54.738Z"
   }
  ],
  "kernelspec": {
   "display_name": "Python 3 (ipykernel)",
   "language": "python",
   "name": "python3"
  },
  "language_info": {
   "codemirror_mode": {
    "name": "ipython",
    "version": 3
   },
   "file_extension": ".py",
   "mimetype": "text/x-python",
   "name": "python",
   "nbconvert_exporter": "python",
   "pygments_lexer": "ipython3",
   "version": "3.11.4"
  },
  "toc": {
   "base_numbering": 1,
   "nav_menu": {},
   "number_sections": true,
   "sideBar": true,
   "skip_h1_title": true,
   "title_cell": "Table of Contents",
   "title_sidebar": "Contents",
   "toc_cell": false,
   "toc_position": {},
   "toc_section_display": true,
   "toc_window_display": false
  }
 },
 "nbformat": 4,
 "nbformat_minor": 2
}
