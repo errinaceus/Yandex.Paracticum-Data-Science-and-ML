{
 "cells": [
  {
   "cell_type": "markdown",
   "metadata": {},
   "source": [
    "# Recommendation of tariffs"
   ]
  },
  {
   "cell_type": "markdown",
   "metadata": {},
   "source": [
    "At your disposal is data on the behavior of customers who have already switched to these tariffs (from the project of the course “Statistical Data Analysis”). We need to build a model for the classification task that will select the appropriate tariff. There is no need for data preprocessing - you have already done it.\n",
    "\n",
    "Build a model with the highest possible *accuracy* value. To pass the project successfully, you need to bring the percentage of correct answers to at least 0.75. Check *accuracy* on a test sample yourself."
   ]
  },
  {
   "cell_type": "code",
   "execution_count": 1,
   "metadata": {},
   "outputs": [
    {
     "name": "stdout",
     "output_type": "stream",
     "text": [
      "   calls  minutes  messages   mb_used  is_ultra\n",
      "0   40.0   311.90      83.0  19915.42         0\n",
      "1   85.0   516.75      56.0  22696.96         0\n",
      "2   77.0   467.66      86.0  21060.45         0\n",
      "3  106.0   745.53      81.0   8437.39         1\n",
      "4   66.0   418.74       1.0  14502.75         0\n",
      "<class 'pandas.core.frame.DataFrame'>\n",
      "RangeIndex: 3214 entries, 0 to 3213\n",
      "Data columns (total 5 columns):\n",
      " #   Column    Non-Null Count  Dtype  \n",
      "---  ------    --------------  -----  \n",
      " 0   calls     3214 non-null   float64\n",
      " 1   minutes   3214 non-null   float64\n",
      " 2   messages  3214 non-null   float64\n",
      " 3   mb_used   3214 non-null   float64\n",
      " 4   is_ultra  3214 non-null   int64  \n",
      "dtypes: float64(4), int64(1)\n",
      "memory usage: 125.7 KB\n",
      "None\n"
     ]
    }
   ],
   "source": [
    "import pandas as pd\n",
    "from sklearn.tree import DecisionTreeClassifier\n",
    "from sklearn.ensemble import RandomForestClassifier\n",
    "from sklearn.linear_model import LogisticRegression\n",
    "from sklearn.model_selection import train_test_split\n",
    "from sklearn.metrics import accuracy_score \n",
    "from sklearn.metrics import mean_squared_error\n",
    "\n",
    "df = pd.read_csv('users_behavior.csv')\n",
    "print(df.head())\n",
    "print(df.info())"
   ]
  },
  {
   "cell_type": "markdown",
   "metadata": {},
   "source": [
    "## Breaking the data"
   ]
  },
  {
   "cell_type": "markdown",
   "metadata": {},
   "source": [
    "Let's divide the data in a ratio of 3:1:1 (training, validation, test samples):"
   ]
  },
  {
   "cell_type": "code",
   "execution_count": 2,
   "metadata": {},
   "outputs": [
    {
     "name": "stdout",
     "output_type": "stream",
     "text": [
      "(1928, 4)\n",
      "(643, 4)\n",
      "(643, 4)\n",
      "(1928,)\n",
      "(643,)\n",
      "(643,)\n"
     ]
    }
   ],
   "source": [
    "features = df.drop(['is_ultra'], axis=1)\n",
    "target = df['is_ultra']\n",
    "\n",
    "#Allocate 20% of the data to the test sample\n",
    "features_train, features_test, target_train, target_test = train_test_split(\n",
    "    features, target, test_size=0.2, random_state=12345)\n",
    "#From the remaining data, we will allocate 25% of the data to the validation sample\n",
    "features_train, features_valid, target_train, target_valid = train_test_split(\n",
    "    features_train, target_train, test_size=0.25, random_state=12345)\n",
    "print(features_train.shape)\n",
    "print(features_valid.shape)\n",
    "print(features_test.shape)\n",
    "print(target_train.shape)\n",
    "print(target_valid.shape)\n",
    "print(target_test.shape)"
   ]
  },
  {
   "cell_type": "markdown",
   "metadata": {},
   "source": [
    "## Exploring models"
   ]
  },
  {
   "cell_type": "markdown",
   "metadata": {},
   "source": [
    "Let's train and study a decision tree model with a depth of 1-5 and a different minimum number of values in a “leaf” (from 1 to 10) with different selection criteria (gini or entropy) on a validation sample:"
   ]
  },
  {
   "cell_type": "code",
   "execution_count": 3,
   "metadata": {},
   "outputs": [
    {
     "name": "stdout",
     "output_type": "stream",
     "text": [
      "Accuracy of the best model: 0.7698289269051322 Depth: 5 Minimum number of values in a sheet: 5\n"
     ]
    }
   ],
   "source": [
    "#  entropy criterion\n",
    "best_model = None\n",
    "best_result = 0\n",
    "best_samples_leaf=0\n",
    "for leaf in range(1, 11):\n",
    "    for depth in range(1, 6):\n",
    "        model = DecisionTreeClassifier(random_state=12345, min_samples_leaf=leaf, criterion='entropy', max_depth=depth) \n",
    "        model.fit(features_train,target_train) \n",
    "        predictions = model.predict(features_valid) \n",
    "        result = accuracy_score(target_valid, predictions) \n",
    "        if result > best_result:\n",
    "            best_depth = depth\n",
    "            best_result = result\n",
    "            best_samples_leaf=leaf\n",
    "        \n",
    "print(\"Accuracy of the best model:\", best_result, \"Depth:\", best_depth, \"Minimum number of values in a sheet:\", best_samples_leaf)"
   ]
  },
  {
   "cell_type": "code",
   "execution_count": 4,
   "metadata": {},
   "outputs": [
    {
     "name": "stdout",
     "output_type": "stream",
     "text": [
      "Accuracy of the best model: 0.7698289269051322 Depth: 4 Minimum number of values in a sheet: 8\n"
     ]
    }
   ],
   "source": [
    "#  gini criterion\n",
    "best_model = None\n",
    "best_result = 0\n",
    "best_samples_leaf=0\n",
    "for leaf in range(1, 11):\n",
    "    for depth in range(1, 6):\n",
    "        model = DecisionTreeClassifier(random_state=12345, min_samples_leaf=leaf, criterion='gini', max_depth=depth) \n",
    "        model.fit(features_train,target_train) \n",
    "        predictions = model.predict(features_valid) \n",
    "        result = accuracy_score(target_valid, predictions) \n",
    "        if result > best_result:\n",
    "            best_depth = depth\n",
    "            best_result = result\n",
    "            best_samples_leaf=leaf\n",
    "        \n",
    "print(\"Accuracy of the best model:\", best_result, \"Depth:\", best_depth, \"Minimum number of values in a sheet:\", best_samples_leaf)"
   ]
  },
  {
   "cell_type": "markdown",
   "metadata": {},
   "source": [
    "Let's train and study a random forest model with a depth of 1-10, number of trees 10-50 and different minimum number of values in a “leaf” (from 1 to 10) with different selection criteria (gini or entropy) on a validation set:"
   ]
  },
  {
   "cell_type": "code",
   "execution_count": 5,
   "metadata": {},
   "outputs": [
    {
     "name": "stdout",
     "output_type": "stream",
     "text": [
      "Accuracy of the best model: 0.7978227060653188 Number of estimators: 50 Maximum depth: 10 Minimum number of values in a sheet: 1\n"
     ]
    }
   ],
   "source": [
    "#  gini criterion\n",
    "best_model = None\n",
    "best_result = 0\n",
    "best_est = 0\n",
    "best_depth = 0\n",
    "best_samples_leaf=0\n",
    "for leaf in range(1, 11):\n",
    "    for est in range(10, 51, 10):\n",
    "        for depth in range (1, 11):\n",
    "            model = RandomForestClassifier(random_state=12345, min_samples_leaf=leaf, \n",
    "                                           criterion='gini', n_estimators=est, max_depth=depth) \n",
    "            model.fit(features_train, target_train) \n",
    "            predictions = model.predict(features_valid) \n",
    "            result = accuracy_score(target_valid, predictions) \n",
    "            if result > best_result:\n",
    "                best_model = model\n",
    "                best_result = result\n",
    "                best_est = est\n",
    "                best_depth = depth\n",
    "                best_samples_leaf=leaf\n",
    "\n",
    "print(\"Accuracy of the best model:\", best_result, \"Number of estimators:\", best_est, \n",
    "      \"Maximum depth:\", depth, \"Minimum number of values in a sheet:\", best_samples_leaf)"
   ]
  },
  {
   "cell_type": "code",
   "execution_count": 6,
   "metadata": {},
   "outputs": [
    {
     "name": "stdout",
     "output_type": "stream",
     "text": [
      "Accuracy of the best model: 0.7978227060653188 Number of estimators: 10 Maximum depth: 10 Minimum number of values in a sheet: 1\n"
     ]
    }
   ],
   "source": [
    "#  entropy criterion\n",
    "best_model = None\n",
    "best_result = 0\n",
    "best_est = 0\n",
    "best_depth = 0\n",
    "best_samples_leaf=0\n",
    "for leaf in range(1, 11):\n",
    "    for est in range(10, 51, 10):\n",
    "        for depth in range (1, 11):\n",
    "            model = RandomForestClassifier(random_state=12345, min_samples_leaf=leaf, \n",
    "                                           criterion='entropy', n_estimators=est, max_depth=depth) \n",
    "            model.fit(features_train, target_train) \n",
    "            predictions = model.predict(features_valid) \n",
    "            result = accuracy_score(target_valid, predictions) \n",
    "            if result > best_result:\n",
    "                best_model = model\n",
    "                best_result = result\n",
    "                best_est = est\n",
    "                best_depth = depth\n",
    "                best_samples_leaf=leaf\n",
    "\n",
    "print(\"Accuracy of the best model:\", best_result, \"Number of estimators:\", best_est, \n",
    "      \"Maximum depth:\", depth, \"Minimum number of values in a sheet:\", best_samples_leaf)"
   ]
  },
  {
   "cell_type": "markdown",
   "metadata": {},
   "source": [
    "Let's train and study a logistic regression model with different algorithms ('lbfgs', 'liblinear', 'newton-cg') on a validation set:"
   ]
  },
  {
   "cell_type": "code",
   "execution_count": 7,
   "metadata": {},
   "outputs": [
    {
     "name": "stdout",
     "output_type": "stream",
     "text": [
      "Accuracy of the best model: 0.7262830482115086 Algorithm: newton-cg\n"
     ]
    },
    {
     "name": "stderr",
     "output_type": "stream",
     "text": [
      "/Users/artembonchuk/anaconda3/lib/python3.11/site-packages/scipy/optimize/_linesearch.py:457: LineSearchWarning: The line search algorithm did not converge\n",
      "  warn('The line search algorithm did not converge', LineSearchWarning)\n",
      "/Users/artembonchuk/anaconda3/lib/python3.11/site-packages/scipy/optimize/_linesearch.py:306: LineSearchWarning: The line search algorithm did not converge\n",
      "  warn('The line search algorithm did not converge', LineSearchWarning)\n"
     ]
    }
   ],
   "source": [
    "solvers=['lbfgs', 'liblinear', 'newton-cg']\n",
    "best_solver = 0\n",
    "best_result = 0\n",
    "for solv in solvers:\n",
    "    model = LogisticRegression(solver=solv)\n",
    "    model.fit(features_train, target_train)\n",
    "    predictions = model.predict(features_valid)\n",
    "    result = accuracy_score(target_valid, predictions)\n",
    "    if result > best_result:\n",
    "                best_solver = solv\n",
    "print(\"Accuracy of the best model:\", result, \"Algorithm:\",best_solver)"
   ]
  },
  {
   "cell_type": "markdown",
   "metadata": {},
   "source": [
    "Conclusion: the best results were shown by a random forest model with a depth of 10 and a number of trees of 10 for the entropy criterion, and a random forest model with a depth of 10 and a number of trees of 50 for the gini criterion. We will select the most suitable one based on the analysis of the test sample"
   ]
  },
  {
   "cell_type": "markdown",
   "metadata": {},
   "source": [
    "## Проверьте модель на тестовой выборке"
   ]
  },
  {
   "cell_type": "code",
   "execution_count": 8,
   "metadata": {},
   "outputs": [
    {
     "name": "stdout",
     "output_type": "stream",
     "text": [
      "Accuracy of the model: 0.7869362363919129\n"
     ]
    }
   ],
   "source": [
    "model = RandomForestClassifier(random_state=12345,criterion='entropy', n_estimators=10, max_depth=10) \n",
    "model.fit(features_train, target_train) \n",
    "predictions = model.predict(features_test) \n",
    "result = accuracy_score(target_test, predictions)\n",
    "print(\"Accuracy of the model:\", result)"
   ]
  },
  {
   "cell_type": "code",
   "execution_count": 9,
   "metadata": {},
   "outputs": [
    {
     "name": "stdout",
     "output_type": "stream",
     "text": [
      "Accuracy of the model: 0.7993779160186625\n"
     ]
    }
   ],
   "source": [
    "model = RandomForestClassifier(random_state=12345,criterion='gini', n_estimators=50, max_depth=10) \n",
    "model.fit(features_train, target_train) \n",
    "predictions = model.predict(features_test) \n",
    "result = accuracy_score(target_test, predictions)\n",
    "print(\"Accuracy of the model:\", result)"
   ]
  },
  {
   "cell_type": "markdown",
   "metadata": {},
   "source": [
    "Conclusion: on the test sample, the best result was shown by the random forest model with a depth of 10 and a number of trees of 50 for the gini criterion. The accuracy of the model (0.7993779160186625) is quite high (more than 0.75 in accordance with the task conditions), which allows it to be used to predict what tariff to offer to users."
   ]
  },
  {
   "cell_type": "markdown",
   "metadata": {},
   "source": [
    "## Checking the model for adequacy"
   ]
  },
  {
   "cell_type": "markdown",
   "metadata": {},
   "source": [
    "Let's check how effective prediction is based on the most common characteristic:"
   ]
  },
  {
   "cell_type": "code",
   "execution_count": 10,
   "metadata": {},
   "outputs": [
    {
     "name": "stdout",
     "output_type": "stream",
     "text": [
      "Accuracy of the model: 0.6951788491446346\n"
     ]
    }
   ],
   "source": [
    "from sklearn.dummy import DummyClassifier\n",
    "model = DummyClassifier(random_state=12345)\n",
    "model.fit(features_train, target_train) \n",
    "predictions = model.predict(features_test) \n",
    "result = accuracy_score(target_test, predictions)\n",
    "print(\"Accuracy of the model:\", result)"
   ]
  },
  {
   "cell_type": "markdown",
   "metadata": {},
   "source": [
    "The share of correct answers in the predictions of our random forest model is higher than in the prediction based on the most frequently occurring feature, which means its use is justified"
   ]
  }
 ],
 "metadata": {
  "ExecuteTimeLog": [
   {
    "duration": 1173,
    "start_time": "2023-04-30T11:41:21.068Z"
   },
   {
    "duration": 39,
    "start_time": "2023-04-30T11:41:38.064Z"
   },
   {
    "duration": 42,
    "start_time": "2023-04-30T11:41:52.510Z"
   },
   {
    "duration": 123,
    "start_time": "2023-04-30T11:42:11.890Z"
   },
   {
    "duration": 37,
    "start_time": "2023-04-30T11:42:27.308Z"
   },
   {
    "duration": 39,
    "start_time": "2023-04-30T11:43:14.823Z"
   },
   {
    "duration": 43,
    "start_time": "2023-04-30T11:43:21.411Z"
   },
   {
    "duration": 32,
    "start_time": "2023-04-30T11:43:59.927Z"
   },
   {
    "duration": 36,
    "start_time": "2023-04-30T11:44:06.886Z"
   },
   {
    "duration": 6,
    "start_time": "2023-04-30T11:45:10.454Z"
   },
   {
    "duration": 10,
    "start_time": "2023-04-30T11:52:43.508Z"
   },
   {
    "duration": 36,
    "start_time": "2023-04-30T11:52:52.051Z"
   },
   {
    "duration": 5,
    "start_time": "2023-04-30T11:52:55.418Z"
   },
   {
    "duration": 17,
    "start_time": "2023-04-30T11:52:57.490Z"
   },
   {
    "duration": 38,
    "start_time": "2023-04-30T11:53:45.716Z"
   },
   {
    "duration": 39,
    "start_time": "2023-04-30T11:53:49.713Z"
   },
   {
    "duration": 35,
    "start_time": "2023-04-30T11:58:24.227Z"
   },
   {
    "duration": 44,
    "start_time": "2023-04-30T12:00:10.463Z"
   },
   {
    "duration": 91,
    "start_time": "2023-04-30T12:00:40.743Z"
   },
   {
    "duration": 10,
    "start_time": "2023-04-30T12:01:00.726Z"
   },
   {
    "duration": 17,
    "start_time": "2023-04-30T12:01:07.063Z"
   },
   {
    "duration": 26,
    "start_time": "2023-04-30T12:02:05.439Z"
   },
   {
    "duration": 56,
    "start_time": "2023-04-30T12:02:13.153Z"
   },
   {
    "duration": 31,
    "start_time": "2023-04-30T12:04:19.445Z"
   },
   {
    "duration": 328,
    "start_time": "2023-04-30T12:06:26.305Z"
   },
   {
    "duration": 4986,
    "start_time": "2023-04-30T12:09:18.312Z"
   },
   {
    "duration": 64,
    "start_time": "2023-04-30T12:10:09.669Z"
   },
   {
    "duration": 51,
    "start_time": "2023-04-30T12:11:01.007Z"
   },
   {
    "duration": 4823,
    "start_time": "2023-04-30T12:12:54.324Z"
   },
   {
    "duration": 482,
    "start_time": "2023-04-30T12:14:59.724Z"
   },
   {
    "duration": 90,
    "start_time": "2023-04-30T12:15:35.845Z"
   },
   {
    "duration": 5116,
    "start_time": "2023-04-30T12:15:56.322Z"
   },
   {
    "duration": 4823,
    "start_time": "2023-04-30T12:16:23.721Z"
   },
   {
    "duration": 1231,
    "start_time": "2023-04-30T12:16:51.320Z"
   },
   {
    "duration": 7,
    "start_time": "2023-04-30T12:16:52.552Z"
   },
   {
    "duration": 45,
    "start_time": "2023-04-30T12:16:52.560Z"
   },
   {
    "duration": 4811,
    "start_time": "2023-04-30T12:16:52.607Z"
   },
   {
    "duration": 483,
    "start_time": "2023-04-30T12:16:57.420Z"
   },
   {
    "duration": 5094,
    "start_time": "2023-04-30T12:17:20.575Z"
   },
   {
    "duration": 9,
    "start_time": "2023-04-30T12:24:25.078Z"
   },
   {
    "duration": 29,
    "start_time": "2023-04-30T12:24:30.552Z"
   },
   {
    "duration": 4033,
    "start_time": "2023-04-30T12:24:33.763Z"
   },
   {
    "duration": 31,
    "start_time": "2023-04-30T12:24:41.956Z"
   },
   {
    "duration": 1640,
    "start_time": "2023-04-30T12:25:39.617Z"
   },
   {
    "duration": 3721,
    "start_time": "2023-04-30T12:26:07.745Z"
   },
   {
    "duration": 3954,
    "start_time": "2023-04-30T12:26:17.121Z"
   },
   {
    "duration": 79,
    "start_time": "2023-04-30T12:27:08.158Z"
   },
   {
    "duration": 105,
    "start_time": "2023-04-30T12:27:15.651Z"
   },
   {
    "duration": 10,
    "start_time": "2023-04-30T12:37:18.290Z"
   },
   {
    "duration": 102,
    "start_time": "2023-04-30T12:38:05.368Z"
   },
   {
    "duration": 6,
    "start_time": "2023-04-30T12:45:13.132Z"
   },
   {
    "duration": 1237,
    "start_time": "2023-04-30T12:48:36.419Z"
   },
   {
    "duration": 11,
    "start_time": "2023-04-30T12:48:37.659Z"
   },
   {
    "duration": 58,
    "start_time": "2023-04-30T12:48:37.672Z"
   },
   {
    "duration": 3791,
    "start_time": "2023-04-30T12:48:37.733Z"
   },
   {
    "duration": 32,
    "start_time": "2023-04-30T12:48:41.526Z"
   },
   {
    "duration": 96,
    "start_time": "2023-04-30T12:48:41.560Z"
   },
   {
    "duration": 5,
    "start_time": "2023-04-30T12:48:41.658Z"
   },
   {
    "duration": 1221,
    "start_time": "2023-05-01T10:39:36.360Z"
   },
   {
    "duration": 105,
    "start_time": "2023-05-01T10:40:04.910Z"
   },
   {
    "duration": 13,
    "start_time": "2023-05-01T10:40:10.295Z"
   },
   {
    "duration": 13,
    "start_time": "2023-05-01T10:44:50.215Z"
   },
   {
    "duration": 11,
    "start_time": "2023-05-01T10:45:11.806Z"
   },
   {
    "duration": 10,
    "start_time": "2023-05-01T10:46:04.326Z"
   },
   {
    "duration": 9,
    "start_time": "2023-05-01T10:46:34.519Z"
   },
   {
    "duration": 75,
    "start_time": "2023-05-01T17:48:16.082Z"
   },
   {
    "duration": 1581,
    "start_time": "2023-05-01T17:48:30.229Z"
   },
   {
    "duration": 12,
    "start_time": "2023-05-01T17:48:31.812Z"
   },
   {
    "duration": 178,
    "start_time": "2023-05-01T17:48:31.826Z"
   },
   {
    "duration": 0,
    "start_time": "2023-05-01T17:48:32.006Z"
   },
   {
    "duration": 0,
    "start_time": "2023-05-01T17:48:32.008Z"
   },
   {
    "duration": 0,
    "start_time": "2023-05-01T17:48:32.010Z"
   },
   {
    "duration": 0,
    "start_time": "2023-05-01T17:48:32.011Z"
   },
   {
    "duration": 16,
    "start_time": "2023-05-01T17:48:38.872Z"
   },
   {
    "duration": 57,
    "start_time": "2023-05-01T17:48:45.939Z"
   },
   {
    "duration": 46,
    "start_time": "2023-05-01T17:48:56.066Z"
   },
   {
    "duration": 56,
    "start_time": "2023-05-01T17:49:02.611Z"
   },
   {
    "duration": 20,
    "start_time": "2023-05-01T17:49:20.790Z"
   },
   {
    "duration": 47,
    "start_time": "2023-05-01T17:49:41.481Z"
   },
   {
    "duration": 51,
    "start_time": "2023-05-01T17:50:12.646Z"
   },
   {
    "duration": 50,
    "start_time": "2023-05-01T17:51:39.319Z"
   },
   {
    "duration": 41,
    "start_time": "2023-05-01T17:53:16.547Z"
   },
   {
    "duration": 52,
    "start_time": "2023-05-01T17:53:20.910Z"
   },
   {
    "duration": 42,
    "start_time": "2023-05-01T17:53:25.473Z"
   },
   {
    "duration": 47,
    "start_time": "2023-05-01T17:53:32.849Z"
   },
   {
    "duration": 6,
    "start_time": "2023-05-01T17:56:05.167Z"
   },
   {
    "duration": 301,
    "start_time": "2023-05-01T17:56:46.920Z"
   },
   {
    "duration": 302,
    "start_time": "2023-05-01T17:57:57.617Z"
   },
   {
    "duration": 42622,
    "start_time": "2023-05-01T18:02:04.115Z"
   },
   {
    "duration": 265,
    "start_time": "2023-05-01T18:03:58.436Z"
   },
   {
    "duration": 41067,
    "start_time": "2023-05-01T18:04:03.936Z"
   },
   {
    "duration": 47102,
    "start_time": "2023-05-01T18:04:55.909Z"
   },
   {
    "duration": 73,
    "start_time": "2023-05-01T18:08:39.618Z"
   },
   {
    "duration": 214,
    "start_time": "2023-05-01T18:09:05.521Z"
   },
   {
    "duration": 9,
    "start_time": "2023-05-01T18:09:59.575Z"
   },
   {
    "duration": 5,
    "start_time": "2023-05-01T18:17:35.752Z"
   },
   {
    "duration": 5,
    "start_time": "2023-05-01T18:18:59.434Z"
   },
   {
    "duration": 189,
    "start_time": "2023-05-01T18:19:57.741Z"
   },
   {
    "duration": 194,
    "start_time": "2023-05-01T18:20:42.707Z"
   },
   {
    "duration": 200,
    "start_time": "2023-05-01T18:21:07.303Z"
   },
   {
    "duration": 218,
    "start_time": "2023-05-01T18:21:34.649Z"
   },
   {
    "duration": 275,
    "start_time": "2023-05-01T18:22:27.171Z"
   },
   {
    "duration": 51,
    "start_time": "2023-05-01T18:24:04.505Z"
   },
   {
    "duration": 184,
    "start_time": "2023-05-01T18:24:12.962Z"
   },
   {
    "duration": 164,
    "start_time": "2023-05-01T18:24:29.247Z"
   },
   {
    "duration": 173,
    "start_time": "2023-05-01T18:24:40.378Z"
   },
   {
    "duration": 240,
    "start_time": "2023-05-01T18:26:07.057Z"
   },
   {
    "duration": 202,
    "start_time": "2023-05-01T18:26:21.297Z"
   },
   {
    "duration": 242,
    "start_time": "2023-05-01T18:26:51.130Z"
   },
   {
    "duration": 239,
    "start_time": "2023-05-01T18:27:19.200Z"
   },
   {
    "duration": 41822,
    "start_time": "2023-05-01T18:27:38.459Z"
   },
   {
    "duration": 61,
    "start_time": "2023-05-01T18:30:36.508Z"
   },
   {
    "duration": 50,
    "start_time": "2023-05-01T18:31:54.627Z"
   },
   {
    "duration": 1179,
    "start_time": "2023-05-01T18:32:34.770Z"
   },
   {
    "duration": 21,
    "start_time": "2023-05-01T18:32:35.952Z"
   },
   {
    "duration": 336,
    "start_time": "2023-05-01T18:32:35.976Z"
   },
   {
    "duration": 272,
    "start_time": "2023-05-01T18:32:36.315Z"
   },
   {
    "duration": 40683,
    "start_time": "2023-05-01T18:32:36.589Z"
   },
   {
    "duration": 46038,
    "start_time": "2023-05-01T18:33:17.274Z"
   },
   {
    "duration": 244,
    "start_time": "2023-05-01T18:34:03.313Z"
   },
   {
    "duration": 53,
    "start_time": "2023-05-01T18:34:03.559Z"
   },
   {
    "duration": 203,
    "start_time": "2023-05-01T18:34:03.614Z"
   },
   {
    "duration": 7,
    "start_time": "2023-05-01T18:34:03.819Z"
   }
  ],
  "kernelspec": {
   "display_name": "Python 3 (ipykernel)",
   "language": "python",
   "name": "python3"
  },
  "language_info": {
   "codemirror_mode": {
    "name": "ipython",
    "version": 3
   },
   "file_extension": ".py",
   "mimetype": "text/x-python",
   "name": "python",
   "nbconvert_exporter": "python",
   "pygments_lexer": "ipython3",
   "version": "3.11.4"
  },
  "toc": {
   "base_numbering": 1,
   "nav_menu": {},
   "number_sections": true,
   "sideBar": true,
   "skip_h1_title": true,
   "title_cell": "Table of Contents",
   "title_sidebar": "Contents",
   "toc_cell": false,
   "toc_position": {},
   "toc_section_display": true,
   "toc_window_display": false
  }
 },
 "nbformat": 4,
 "nbformat_minor": 2
}
