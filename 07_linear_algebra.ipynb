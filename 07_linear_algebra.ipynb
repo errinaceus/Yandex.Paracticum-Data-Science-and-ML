{
 "cells": [
  {
   "cell_type": "markdown",
   "metadata": {},
   "source": [
    "# Protection of personal data of clients"
   ]
  },
  {
   "cell_type": "markdown",
   "metadata": {},
   "source": [
    "You need to protect the data of clients of the insurance company \"Though the Flood\". Develop a method for transforming data so that it is difficult to recover personal information from it. Justify the correctness of its operation.\n",
    "\n",
    "It is necessary to protect the data so that the quality of machine learning models does not deteriorate during conversion. There is no need to select the best model."
   ]
  },
  {
   "cell_type": "markdown",
   "metadata": {},
   "source": [
    "## Loading data"
   ]
  },
  {
   "cell_type": "code",
   "execution_count": 1,
   "metadata": {},
   "outputs": [
    {
     "name": "stdout",
     "output_type": "stream",
     "text": [
      "   Пол  Возраст  Зарплата  Члены семьи  Страховые выплаты\n",
      "0    1     41.0   49600.0            1                  0\n",
      "1    0     46.0   38000.0            1                  1\n",
      "2    0     29.0   21000.0            0                  0\n",
      "3    0     21.0   41700.0            2                  0\n",
      "4    1     28.0   26100.0            0                  0\n",
      "<class 'pandas.core.frame.DataFrame'>\n",
      "RangeIndex: 5000 entries, 0 to 4999\n",
      "Data columns (total 5 columns):\n",
      " #   Column             Non-Null Count  Dtype  \n",
      "---  ------             --------------  -----  \n",
      " 0   Пол                5000 non-null   int64  \n",
      " 1   Возраст            5000 non-null   float64\n",
      " 2   Зарплата           5000 non-null   float64\n",
      " 3   Члены семьи        5000 non-null   int64  \n",
      " 4   Страховые выплаты  5000 non-null   int64  \n",
      "dtypes: float64(2), int64(3)\n",
      "memory usage: 195.4 KB\n",
      "None\n",
      "               Пол      Возраст      Зарплата  Члены семьи  Страховые выплаты\n",
      "count  5000.000000  5000.000000   5000.000000  5000.000000        5000.000000\n",
      "mean      0.499000    30.952800  39916.360000     1.194200           0.148000\n",
      "std       0.500049     8.440807   9900.083569     1.091387           0.463183\n",
      "min       0.000000    18.000000   5300.000000     0.000000           0.000000\n",
      "25%       0.000000    24.000000  33300.000000     0.000000           0.000000\n",
      "50%       0.000000    30.000000  40200.000000     1.000000           0.000000\n",
      "75%       1.000000    37.000000  46600.000000     2.000000           0.000000\n",
      "max       1.000000    65.000000  79000.000000     6.000000           5.000000\n"
     ]
    }
   ],
   "source": [
    "import numpy as np\n",
    "import pandas as pd\n",
    "from sklearn.metrics import r2_score\n",
    "from sklearn.linear_model import LinearRegression\n",
    "data = pd.read_csv('datasets/insurance.csv')\n",
    "print(data.head())\n",
    "print(data.info())\n",
    "print(data.describe())"
   ]
  },
  {
   "cell_type": "markdown",
   "metadata": {},
   "source": [
    "## Matrix multiplication"
   ]
  },
  {
   "cell_type": "markdown",
   "metadata": {},
   "source": [
    "In this activity you can write formulas in *Jupyter Notebook.*\n",
    "\n",
    "To write a formula inside text, surround it with dollar symbols \\\\$; if outside - double symbols \\\\$\\\\$. These formulas are written in the layout language *LaTeX.*\n",
    "\n",
    "For example, we wrote down the linear regression formulas. You can copy and edit them to solve the problem.\n",
    "\n",
    "Working in *LaTeX* is not necessary."
   ]
  },
  {
   "cell_type": "markdown",
   "metadata": {},
   "source": [
    "Designations:\n",
    "\n",
    "- $X$ — matrix of features (the zero column consists of ones)\n",
    "\n",
    "- $y$ — vector of the target feature\n",
    "\n",
    "- $P$ is the matrix by which the features are multiplied\n",
    "\n",
    "- $w$ — vector of linear regression weights (zero element equals shift)"
   ]
  },
  {
   "cell_type": "markdown",
   "metadata": {},
   "source": [
    "Predictions:\n",
    "\n",
    "$$\n",
    "a = Xw\n",
    "$$\n",
    "\n",
    "Learning Objective:\n",
    "\n",
    "$$\n",
    "w = \\arg\\min_w MSE(Xw, y)\n",
    "$$\n",
    "\n",
    "Training formula:\n",
    "\n",
    "$$\n",
    "w = (X^T X)^{-1} X^T y\n",
    "$$"
   ]
  },
  {
   "cell_type": "markdown",
   "metadata": {},
   "source": [
    "**Answer:** the quality of linear regression will not change\n",
    "\n",
    "**Rationale:**\n",
    "*Problem:* It is necessary to prove whether the quality of linear regression changes when a matrix with data is multiplied by an invertible matrix.\n",
    "\n",
    "*Hypothesis:* if you multiply a matrix $X (A, B)$ by an invertible matrix $C$ of dimension $(B, B)$, then the predictions of $a$ should not change.\n",
    "\n",
    "*Proof:*\n",
    "Formulas for calculating the new prediction $a_{2}$ and coefficient $w_{2}$:\n",
    "$$\n",
    "a_{2} = XСw_{2}\n",
    "$$\n",
    "\n",
    "$$\n",
    "w_{2} = ((XС)^T XС)^{-1}(XС)^T y\n",
    "$$\n",
    "\n",
    "Let's substitute $w_{2}$ into $a_{2}$ and transform:\n",
    "\n",
    "$$\n",
    "a_{2} = X С ((XС)^T XС)^{-1}(XС)^T y\n",
    "$$\n",
    "Let's open the brackets taking into account the rule $(XС)^T=С^T X^T$:\n",
    "$$X С (С^TX^T XС)^{-1}С^T X^T y = \\\\X С (X^TXС)^{-1} (С^T)^{-1} С^ T X^T y = \\\\X С С^{-1}(X^TX)^{-1} (С^T)^{-1} С^T X^T y $$\n",
    "Since the product of a direct and inverse matrix is equal to the identity matrix, we get:\n",
    "$$X E (X^TX)^{-1} E X^T y = \\\\X (X^TX)^{-1} X^T y = X w\n",
    "$$\n",
    "Because $$\n",
    "X w = XСw_{2}\n",
    "$$\n",
    "That\n",
    "$$w = Сw_{2}$$\n",
    "The relationship between the parameters is linear"
   ]
  },
  {
   "cell_type": "markdown",
   "metadata": {},
   "source": [
    "## Conversion algorithm"
   ]
  },
  {
   "cell_type": "markdown",
   "metadata": {},
   "source": [
    "**Algorithm**\n",
    "\n",
    "1. Train a linear regression model on the X matrix, obtain a prediction for the training sample and the r2 value.\n",
    "\n",
    "2. Find out the dimension of matrix X, generate a random invertible square matrix C with the number of rows and columns equal to the number of columns X. Check the invertibility of matrix C.\n",
    "\n",
    "3.Multiply matrix X by C.\n",
    "\n",
    "4. Train a linear regression model on the XC matrix, obtain a prediction for the training sample and the r2 value, compare with the data obtained for the X matrix."
   ]
  },
  {
   "cell_type": "markdown",
   "metadata": {},
   "source": [
    "**Rationale**\n",
    "\n",
    "If our proof is correct, then the quality of linear regression when multiplied by an invertible matrix should not change"
   ]
  },
  {
   "cell_type": "markdown",
   "metadata": {},
   "source": [
    "## Algorithm check"
   ]
  },
  {
   "cell_type": "code",
   "execution_count": 3,
   "metadata": {},
   "outputs": [],
   "source": [
    "#select the target feature\n",
    "data_train = data.drop(columns='Страховые выплаты')\n",
    "data_target = data['Страховые выплаты']\n"
   ]
  },
  {
   "cell_type": "code",
   "execution_count": 4,
   "metadata": {},
   "outputs": [
    {
     "name": "stdout",
     "output_type": "stream",
     "text": [
      "r2 on source data:  0.42494550286668\n"
     ]
    }
   ],
   "source": [
    "#train the model on the original data and get the r2 value for prediction on the training set:\n",
    "model=LinearRegression()\n",
    "model.fit(data_train,data_target)\n",
    "predictions=model.predict(data_train)\n",
    "r2=r2_score(data_target,predictions)\n",
    "print('r2 on source data: ',r2)"
   ]
  },
  {
   "cell_type": "code",
   "execution_count": 5,
   "metadata": {},
   "outputs": [],
   "source": [
    "#generate a random invertible matrix with a dimension equal to the number of columns of the feature matrix\n",
    "#and check it for reversibility:\n",
    "X_columns = data_train.shape[1]\n",
    "C = np.random.normal(size=(X_columns, X_columns))\n",
    "C_1 = np.linalg.inv(C)\n",
    "#we will generate random matrices until the product of a matrix and the inverse matrix\n",
    "#will not be equal to the identity matrix\n",
    "while np.allclose(np.dot(C,C_1),np.eye(C.shape[0])) ==False:\n",
    "    C = np.random.normal(size=(X_columns, X_columns))\n",
    "    C_1 = np.linalg.inv(C)\n",
    "data_train_2=np.dot(data_train,C)"
   ]
  },
  {
   "cell_type": "code",
   "execution_count": 6,
   "metadata": {},
   "outputs": [
    {
     "name": "stdout",
     "output_type": "stream",
     "text": [
      "r2 on the converted data:  0.4249455028666158\n"
     ]
    }
   ],
   "source": [
    "#train the model on the transformed data and get the r2 value for prediction on the new training set:\n",
    "model=LinearRegression()\n",
    "model.fit(data_train_2,data_target)\n",
    "predictions2=model.predict(data_train_2)\n",
    "r2_2=r2_score(data_target,predictions2)\n",
    "print('r2 on the converted data: ',r2_2)"
   ]
  },
  {
   "cell_type": "markdown",
   "metadata": {},
   "source": [
    "CONCLUSION:\n",
    "\n",
    "The r2 values for a linear regression model trained on the original and transformed data do not differ, which makes it possible to use the invertible matrix multiplication algorithm to protect personal data"
   ]
  },
  {
   "cell_type": "code",
   "execution_count": null,
   "metadata": {},
   "outputs": [],
   "source": []
  }
 ],
 "metadata": {
  "ExecuteTimeLog": [
   {
    "duration": 1517,
    "start_time": "2023-06-28T13:23:17.892Z"
   },
   {
    "duration": 4,
    "start_time": "2023-06-28T13:34:30.693Z"
   },
   {
    "duration": 15,
    "start_time": "2023-06-28T13:34:31.126Z"
   },
   {
    "duration": 4,
    "start_time": "2023-06-28T13:34:46.489Z"
   },
   {
    "duration": 8,
    "start_time": "2023-06-28T13:34:57.024Z"
   },
   {
    "duration": 76,
    "start_time": "2023-06-28T13:35:18.362Z"
   },
   {
    "duration": 3088,
    "start_time": "2023-06-28T13:57:32.142Z"
   },
   {
    "duration": 4,
    "start_time": "2023-06-28T13:57:35.233Z"
   },
   {
    "duration": 39,
    "start_time": "2023-06-28T13:57:35.239Z"
   },
   {
    "duration": 81,
    "start_time": "2023-06-28T13:57:35.281Z"
   },
   {
    "duration": 107,
    "start_time": "2023-06-28T13:57:35.364Z"
   },
   {
    "duration": 1180,
    "start_time": "2023-06-30T07:51:22.298Z"
   },
   {
    "duration": 92,
    "start_time": "2023-06-30T08:14:28.640Z"
   },
   {
    "duration": 1181,
    "start_time": "2023-06-30T08:14:42.947Z"
   },
   {
    "duration": 3,
    "start_time": "2023-06-30T08:14:44.129Z"
   },
   {
    "duration": 14,
    "start_time": "2023-06-30T08:14:44.134Z"
   },
   {
    "duration": 211,
    "start_time": "2023-06-30T08:14:44.177Z"
   },
   {
    "duration": 0,
    "start_time": "2023-06-30T08:14:44.390Z"
   },
   {
    "duration": 9,
    "start_time": "2023-06-30T08:15:23.264Z"
   },
   {
    "duration": 9,
    "start_time": "2023-06-30T08:16:51.727Z"
   },
   {
    "duration": 4,
    "start_time": "2023-06-30T08:16:57.346Z"
   },
   {
    "duration": 5,
    "start_time": "2023-06-30T08:17:10.622Z"
   },
   {
    "duration": 11,
    "start_time": "2023-06-30T08:17:24.297Z"
   },
   {
    "duration": 9,
    "start_time": "2023-06-30T08:17:39.052Z"
   },
   {
    "duration": 16,
    "start_time": "2023-06-30T08:18:15.706Z"
   },
   {
    "duration": 14,
    "start_time": "2023-06-30T08:20:27.579Z"
   },
   {
    "duration": 11,
    "start_time": "2023-06-30T08:20:46.725Z"
   },
   {
    "duration": 94027,
    "start_time": "2023-06-30T08:24:32.163Z"
   },
   {
    "duration": 11,
    "start_time": "2023-06-30T08:29:00.202Z"
   },
   {
    "duration": 5,
    "start_time": "2023-06-30T08:32:11.485Z"
   },
   {
    "duration": 7,
    "start_time": "2023-06-30T08:32:26.001Z"
   },
   {
    "duration": 5,
    "start_time": "2023-06-30T08:34:26.157Z"
   },
   {
    "duration": 1145,
    "start_time": "2023-06-30T08:34:55.361Z"
   },
   {
    "duration": 3,
    "start_time": "2023-06-30T08:34:56.508Z"
   },
   {
    "duration": 13,
    "start_time": "2023-06-30T08:34:56.513Z"
   },
   {
    "duration": 148,
    "start_time": "2023-06-30T08:34:56.529Z"
   },
   {
    "duration": 97,
    "start_time": "2023-06-30T08:34:56.679Z"
   },
   {
    "duration": 1226,
    "start_time": "2023-06-30T08:35:45.672Z"
   },
   {
    "duration": 4,
    "start_time": "2023-06-30T08:35:46.900Z"
   },
   {
    "duration": 71,
    "start_time": "2023-06-30T08:35:46.905Z"
   },
   {
    "duration": 98,
    "start_time": "2023-06-30T08:35:46.979Z"
   },
   {
    "duration": 98,
    "start_time": "2023-06-30T08:35:47.080Z"
   }
  ],
  "kernelspec": {
   "display_name": "Python 3 (ipykernel)",
   "language": "python",
   "name": "python3"
  },
  "language_info": {
   "codemirror_mode": {
    "name": "ipython",
    "version": 3
   },
   "file_extension": ".py",
   "mimetype": "text/x-python",
   "name": "python",
   "nbconvert_exporter": "python",
   "pygments_lexer": "ipython3",
   "version": "3.11.4"
  },
  "toc": {
   "base_numbering": 1,
   "nav_menu": {},
   "number_sections": true,
   "sideBar": true,
   "skip_h1_title": true,
   "title_cell": "Содержание",
   "title_sidebar": "Contents",
   "toc_cell": true,
   "toc_position": {},
   "toc_section_display": true,
   "toc_window_display": true
  }
 },
 "nbformat": 4,
 "nbformat_minor": 2
}
