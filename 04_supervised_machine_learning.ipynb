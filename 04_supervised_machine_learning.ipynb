{
 "cells": [
  {
   "cell_type": "markdown",
   "metadata": {},
   "source": [
    "# Customer churn"
   ]
  },
  {
   "cell_type": "markdown",
   "metadata": {},
   "source": [
    "Clients began to leave Beta Bank. Every month. A little, but noticeable. Bank marketers have calculated that it is cheaper to retain current customers than to attract new ones.\n",
    "\n",
    "It is necessary to predict whether the client will leave the bank in the near future or not. You are provided with historical data on customer behavior and termination of contracts with the bank.\n",
    "\n",
    "Build a model with an extremely large *F1*-measure. To pass the project successfully, you need to bring the metric to 0.59. Check the *F1*-measure on the test sample yourself.\n",
    "\n",
    "Additionally, measure *AUC-ROC*, compare its value with the *F1* measure.\n",
    "\n",
    "Data source: [https://www.kaggle.com/barelydedicated/bank-customer-churn-modeling](https://www.kaggle.com/barelydedicated/bank-customer-churn-modeling)"
   ]
  },
  {
   "cell_type": "markdown",
   "metadata": {},
   "source": [
    "## Data preparation"
   ]
  },
  {
   "cell_type": "code",
   "execution_count": 1,
   "metadata": {},
   "outputs": [
    {
     "name": "stdout",
     "output_type": "stream",
     "text": [
      "   RowNumber  CustomerId   Surname  CreditScore Geography  Gender  Age  \\\n",
      "0          1    15634602  Hargrave          619    France  Female   42   \n",
      "1          2    15647311      Hill          608     Spain  Female   41   \n",
      "2          3    15619304      Onio          502    France  Female   42   \n",
      "3          4    15701354      Boni          699    France  Female   39   \n",
      "4          5    15737888  Mitchell          850     Spain  Female   43   \n",
      "\n",
      "   Tenure    Balance  NumOfProducts  HasCrCard  IsActiveMember  \\\n",
      "0     2.0       0.00              1          1               1   \n",
      "1     1.0   83807.86              1          0               1   \n",
      "2     8.0  159660.80              3          1               0   \n",
      "3     1.0       0.00              2          0               0   \n",
      "4     2.0  125510.82              1          1               1   \n",
      "\n",
      "   EstimatedSalary  Exited  \n",
      "0        101348.88       1  \n",
      "1        112542.58       0  \n",
      "2        113931.57       1  \n",
      "3         93826.63       0  \n",
      "4         79084.10       0  \n",
      "(10000, 14)\n",
      "RowNumber            0\n",
      "CustomerId           0\n",
      "Surname              0\n",
      "CreditScore          0\n",
      "Geography            0\n",
      "Gender               0\n",
      "Age                  0\n",
      "Tenure             909\n",
      "Balance              0\n",
      "NumOfProducts        0\n",
      "HasCrCard            0\n",
      "IsActiveMember       0\n",
      "EstimatedSalary      0\n",
      "Exited               0\n",
      "dtype: int64\n"
     ]
    }
   ],
   "source": [
    "import pandas as pd\n",
    "from sklearn.metrics import f1_score, confusion_matrix, roc_auc_score, recall_score\n",
    "from sklearn.model_selection import train_test_split\n",
    "from sklearn.preprocessing import StandardScaler\n",
    "from sklearn.utils import shuffle\n",
    "from sklearn.linear_model import LogisticRegression\n",
    "from sklearn.ensemble import RandomForestClassifier\n",
    "from sklearn.dummy import DummyClassifier\n",
    "data=pd.read_csv('datasets/Churn.csv')\n",
    "print(data.head())\n",
    "print(data.shape)\n",
    "print(data.isna().sum())"
   ]
  },
  {
   "cell_type": "code",
   "execution_count": 2,
   "metadata": {},
   "outputs": [
    {
     "name": "stdout",
     "output_type": "stream",
     "text": [
      "CreditScore        0\n",
      "Geography          0\n",
      "Gender             0\n",
      "Age                0\n",
      "Tenure             0\n",
      "Balance            0\n",
      "NumOfProducts      0\n",
      "HasCrCard          0\n",
      "IsActiveMember     0\n",
      "EstimatedSalary    0\n",
      "Exited             0\n",
      "dtype: int64\n"
     ]
    }
   ],
   "source": [
    "#remove columns that have no predictive value\n",
    "data = data.drop(['RowNumber', 'CustomerId', 'Surname'],axis=1)\n",
    "# fill the gaps in Tenure with the median value \n",
    "data['Tenure']=data['Tenure'].fillna(data['Tenure'].median())\n",
    "print(data.isna().sum())"
   ]
  },
  {
   "cell_type": "code",
   "execution_count": 3,
   "metadata": {},
   "outputs": [
    {
     "name": "stdout",
     "output_type": "stream",
     "text": [
      "(6000, 11)\n",
      "(2000, 11)\n",
      "(2000, 11)\n",
      "(6000,)\n",
      "(2000,)\n",
      "(2000,)\n",
      "<class 'pandas.core.frame.DataFrame'>\n",
      "RangeIndex: 10000 entries, 0 to 9999\n",
      "Data columns (total 12 columns):\n",
      " #   Column             Non-Null Count  Dtype  \n",
      "---  ------             --------------  -----  \n",
      " 0   CreditScore        10000 non-null  int64  \n",
      " 1   Age                10000 non-null  int64  \n",
      " 2   Tenure             10000 non-null  float64\n",
      " 3   Balance            10000 non-null  float64\n",
      " 4   NumOfProducts      10000 non-null  int64  \n",
      " 5   HasCrCard          10000 non-null  int64  \n",
      " 6   IsActiveMember     10000 non-null  int64  \n",
      " 7   EstimatedSalary    10000 non-null  float64\n",
      " 8   Exited             10000 non-null  int64  \n",
      " 9   Geography_Germany  10000 non-null  uint8  \n",
      " 10  Geography_Spain    10000 non-null  uint8  \n",
      " 11  Gender_Male        10000 non-null  uint8  \n",
      "dtypes: float64(3), int64(6), uint8(3)\n",
      "memory usage: 732.6 KB\n",
      "None\n"
     ]
    }
   ],
   "source": [
    "# use direct encoding\n",
    "data_ohe = pd.get_dummies(data, drop_first=True)\n",
    "target = data_ohe['Exited']\n",
    "features = data_ohe.drop('Exited', axis=1)\n",
    "#Allocate 20% of the data to the test sample\n",
    "features_train, features_test, target_train, target_test = train_test_split(\n",
    "    features, target, test_size=0.2, random_state=12345)\n",
    "#From the remaining data, we will allocate 25% of the data to the validation sample\n",
    "features_train, features_valid, target_train, target_valid = train_test_split(\n",
    "    features_train, target_train, test_size=0.25, random_state=12345)\n",
    "#check the result\n",
    "print(features_train.shape)\n",
    "print(features_valid.shape)\n",
    "print(features_test.shape)\n",
    "print(target_train.shape)\n",
    "print(target_valid.shape)\n",
    "print(target_test.shape)\n",
    "print(data_ohe.info())\n"
   ]
  },
  {
   "cell_type": "code",
   "execution_count": 4,
   "metadata": {},
   "outputs": [],
   "source": [
    "#scale the features\n",
    "scaler = StandardScaler() \n",
    "numeric= ['CreditScore', 'Age','Tenure','Balance','NumOfProducts','EstimatedSalary']\n",
    "pd.options.mode.chained_assignment = None\n",
    "scaler.fit(features_train[numeric]) \n",
    "features_train[numeric] = scaler.transform(features_train[numeric]) \n",
    "features_valid[numeric] = scaler.transform(features_valid[numeric])\n",
    "features_test[numeric] = scaler.transform(features_test[numeric])\n"
   ]
  },
  {
   "cell_type": "markdown",
   "metadata": {},
   "source": [
    "## Problem research"
   ]
  },
  {
   "cell_type": "code",
   "execution_count": 5,
   "metadata": {},
   "outputs": [
    {
     "name": "stdout",
     "output_type": "stream",
     "text": [
      "[[1549   60]\n",
      " [ 311   80]]\n",
      "F1: 0.30131826741996237\n",
      "AUC_ROC: 0.7703391568208876\n"
     ]
    }
   ],
   "source": [
    "# Let's try to train a regression model\n",
    "model = LogisticRegression(random_state=12345, solver='liblinear')\n",
    "model.fit(features_train, target_train)\n",
    "predicted_valid = model.predict(features_valid)\n",
    "probabilities_valid = model.predict_proba(features_valid)\n",
    "probabilities_one_valid = probabilities_valid[:, 1]\n",
    "auc_roc=roc_auc_score(target_valid, probabilities_one_valid)\n",
    "print(confusion_matrix(target_valid, predicted_valid)) \n",
    "print(\"F1:\", f1_score(target_valid, predicted_valid))\n",
    "print(\"AUC_ROC:\",auc_roc)"
   ]
  },
  {
   "cell_type": "code",
   "execution_count": 6,
   "metadata": {},
   "outputs": [
    {
     "name": "stdout",
     "output_type": "stream",
     "text": [
      "0.5772870662460569\n",
      "15\n",
      "41\n"
     ]
    }
   ],
   "source": [
    "# Let's try to train a random forest model\n",
    "best_score = 0\n",
    "best_depth = 0\n",
    "best_est = 0\n",
    "for depth in range(1, 16, 1):\n",
    "    for est in range(21, 101, 10):\n",
    "        model = RandomForestClassifier(n_estimators=est, max_depth=depth, random_state=12345)\n",
    "        model.fit(features_train, target_train)\n",
    "        predicted_valid=model.predict(features_valid)\n",
    "        score=f1_score(target_valid, predicted_valid) \n",
    "        if score > best_score:\n",
    "            best_score = score\n",
    "            best_depth = depth\n",
    "            best_est = est\n",
    "print(best_score)\n",
    "print(best_depth)\n",
    "print(best_est)"
   ]
  },
  {
   "cell_type": "markdown",
   "metadata": {},
   "source": [
    "The quality of both models is not high enough,\n",
    "Let's explore class balance:"
   ]
  },
  {
   "cell_type": "code",
   "execution_count": 7,
   "metadata": {},
   "outputs": [
    {
     "data": {
      "text/plain": [
       "1219"
      ]
     },
     "execution_count": 7,
     "metadata": {},
     "output_type": "execute_result"
    }
   ],
   "source": [
    "target_train[target_train==1].count()"
   ]
  },
  {
   "cell_type": "code",
   "execution_count": 8,
   "metadata": {},
   "outputs": [
    {
     "data": {
      "text/plain": [
       "4781"
      ]
     },
     "execution_count": 8,
     "metadata": {},
     "output_type": "execute_result"
    }
   ],
   "source": [
    "target_train[target_train==0].count()"
   ]
  },
  {
   "cell_type": "markdown",
   "metadata": {},
   "source": [
    "Conclusion: there is an imbalance: there are almost four times fewer positive ones than negative ones"
   ]
  },
  {
   "cell_type": "markdown",
   "metadata": {},
   "source": [
    "## Fighting imbalance"
   ]
  },
  {
   "cell_type": "code",
   "execution_count": 9,
   "metadata": {},
   "outputs": [
    {
     "name": "stdout",
     "output_type": "stream",
     "text": [
      "F1: 0.4741532976827095\n",
      "AUC_ROC: 0.7725660805030526\n"
     ]
    }
   ],
   "source": [
    "# train a regression model taking into account class imbalance\n",
    "model = LogisticRegression(random_state=12345, solver='liblinear', class_weight='balanced')\n",
    "model.fit(features_train, target_train)\n",
    "predicted_valid = model.predict(features_valid)\n",
    "probabilities_valid = model.predict_proba(features_valid)\n",
    "probabilities_one_valid = probabilities_valid[:, 1]\n",
    "auc_roc=roc_auc_score(target_valid, probabilities_one_valid)\n",
    "print(\"F1:\", f1_score(target_valid, predicted_valid))\n",
    "print(\"AUC_ROC:\",auc_roc)"
   ]
  },
  {
   "cell_type": "code",
   "execution_count": 10,
   "metadata": {},
   "outputs": [
    {
     "name": "stdout",
     "output_type": "stream",
     "text": [
      "0.5963060686015831\n",
      "11\n",
      "21\n"
     ]
    }
   ],
   "source": [
    "#let's try to train a random forest model with different hyperparameters and taking into account class balance\n",
    "best_score = 0\n",
    "best_depth = 0\n",
    "best_est = 0\n",
    "for depth in range(1, 16, 1):\n",
    "    for est in range(21, 101, 10):\n",
    "        model = RandomForestClassifier(n_estimators=est, max_depth=depth, random_state=12345, class_weight='balanced')\n",
    "        model.fit(features_train, target_train)\n",
    "        predicted_valid=model.predict(features_valid)\n",
    "        score=f1_score(target_valid, predicted_valid) \n",
    "        if score > best_score:\n",
    "            best_score = score\n",
    "            best_depth = depth\n",
    "            best_est = est\n",
    "print(best_score)\n",
    "print(best_depth)\n",
    "print(best_est)"
   ]
  },
  {
   "cell_type": "code",
   "execution_count": 11,
   "metadata": {},
   "outputs": [],
   "source": [
    "#let's check whether increasing the sample will improve the quality of the model\n",
    "#Function for increasing the size of the training set by duplicating positive classes\n",
    "def upsample(features, target, repeat):\n",
    "    features_zeros = features[target == 0]\n",
    "    features_ones = features[target == 1]\n",
    "    target_zeros = target[target == 0]\n",
    "    target_ones = target[target == 1]\n",
    "\n",
    "    features_upsampled = pd.concat([features_zeros] + [features_ones] * repeat)\n",
    "    target_upsampled = pd.concat([target_zeros] + [target_ones] * repeat)\n",
    "    \n",
    "    features_upsampled, target_upsampled = shuffle(\n",
    "        features_upsampled, target_upsampled, random_state=12345)\n",
    "    \n",
    "    return features_upsampled, target_upsampled"
   ]
  },
  {
   "cell_type": "code",
   "execution_count": 12,
   "metadata": {},
   "outputs": [
    {
     "name": "stdout",
     "output_type": "stream",
     "text": [
      "0.5993031358885018\n",
      "11\n",
      "91\n"
     ]
    }
   ],
   "source": [
    "#Let's increase the size of the training sample by quadrupling the number of positive classes\n",
    "#(this way we get a class balance of about 1:1)\n",
    "\n",
    "features_upsampled, target_upsampled = upsample(features_train, target_train, 4)\n",
    "best_score = 0\n",
    "best_depth = 0\n",
    "best_est = 0\n",
    "for depth in range(1, 16, 1):\n",
    "    for est in range(21, 101, 10):\n",
    "        model = RandomForestClassifier(n_estimators=est, max_depth=depth, random_state=12345, class_weight='balanced')\n",
    "        model.fit(features_upsampled, target_upsampled)\n",
    "        predicted_valid=model.predict(features_valid)\n",
    "        score=f1_score(target_valid, predicted_valid) \n",
    "        if score > best_score:\n",
    "            best_score = score\n",
    "            best_depth = depth\n",
    "            best_est = est\n",
    "print(best_score)\n",
    "print(best_depth)\n",
    "print(best_est)\n"
   ]
  },
  {
   "cell_type": "markdown",
   "metadata": {},
   "source": [
    "Conclusion: increasing the size of the training sample due to duplication of positive classes very little improves the quality of the model built taking into account class imbalance"
   ]
  },
  {
   "cell_type": "markdown",
   "metadata": {},
   "source": [
    "## Model testing"
   ]
  },
  {
   "cell_type": "code",
   "execution_count": 13,
   "metadata": {},
   "outputs": [
    {
     "name": "stdout",
     "output_type": "stream",
     "text": [
      "F1: 0.6231386025200458\n",
      "Recall: 0.6370023419203747\n",
      "AUC_ROC: 0.8590202643853913\n"
     ]
    }
   ],
   "source": [
    "# check the model's performance on a test sample\n",
    "model = RandomForestClassifier(n_estimators=80, max_depth=12, random_state=12345, class_weight='balanced')\n",
    "model.fit(features_upsampled, target_upsampled)\n",
    "predicted_test=model.predict(features_test)\n",
    "probabilities_test = model.predict_proba(features_test)\n",
    "probabilities_one_test = probabilities_test[:, 1]\n",
    "auc_roc=roc_auc_score(target_test, probabilities_one_test)\n",
    "print(\"F1:\", f1_score(target_test, predicted_test))\n",
    "print(\"Recall:\", recall_score(target_test, predicted_test))\n",
    "print(\"AUC_ROC:\",auc_roc)"
   ]
  },
  {
   "cell_type": "code",
   "execution_count": 14,
   "metadata": {},
   "outputs": [
    {
     "name": "stdout",
     "output_type": "stream",
     "text": [
      "F1: 0.3518747424804285\n",
      "Recall: 0.2135\n"
     ]
    }
   ],
   "source": [
    "dummy_model = DummyClassifier(strategy='constant', constant=1)\n",
    "dummy_model.fit(features_train, target_train)\n",
    "print(\"F1:\", f1_score(dummy_model.predict(features_test), target_test))\n",
    "print(\"Recall:\", recall_score(dummy_model.predict(features_test), target_test))"
   ]
  },
  {
   "cell_type": "markdown",
   "metadata": {},
   "source": [
    "Conclusion: a model was obtained with an F1 value on the test sample of more than 0.62 (which is significantly higher than that for the constant model) and an AUC-ROC of 0.8599, which allows it to be used for predicting customer churn. The model correctly predicts 63.4% of customers for churn (compared to 21% of the constant model)"
   ]
  },
  {
   "cell_type": "code",
   "execution_count": null,
   "metadata": {},
   "outputs": [],
   "source": []
  }
 ],
 "metadata": {
  "ExecuteTimeLog": [
   {
    "duration": 546,
    "start_time": "2023-05-14T09:53:40.194Z"
   },
   {
    "duration": 823,
    "start_time": "2023-05-14T09:57:48.652Z"
   },
   {
    "duration": 152,
    "start_time": "2023-05-14T09:57:53.653Z"
   },
   {
    "duration": 49,
    "start_time": "2023-05-14T09:58:31.289Z"
   },
   {
    "duration": 52,
    "start_time": "2023-05-14T09:58:55.888Z"
   },
   {
    "duration": 58,
    "start_time": "2023-05-14T09:59:16.021Z"
   },
   {
    "duration": 40,
    "start_time": "2023-05-14T09:59:20.303Z"
   },
   {
    "duration": 13,
    "start_time": "2023-05-14T10:01:31.717Z"
   },
   {
    "duration": 10,
    "start_time": "2023-05-14T10:01:44.822Z"
   },
   {
    "duration": 34,
    "start_time": "2023-05-14T10:02:20.463Z"
   },
   {
    "duration": 22,
    "start_time": "2023-05-14T10:02:29.088Z"
   },
   {
    "duration": 43,
    "start_time": "2023-05-14T10:05:13.912Z"
   },
   {
    "duration": 73,
    "start_time": "2023-05-14T10:05:54.420Z"
   },
   {
    "duration": 75,
    "start_time": "2023-05-14T10:06:10.921Z"
   },
   {
    "duration": 4,
    "start_time": "2023-05-14T10:07:31.332Z"
   },
   {
    "duration": 9,
    "start_time": "2023-05-14T10:07:44.004Z"
   },
   {
    "duration": 142,
    "start_time": "2023-05-14T10:07:49.349Z"
   },
   {
    "duration": 18,
    "start_time": "2023-05-14T10:08:20.296Z"
   },
   {
    "duration": 1243,
    "start_time": "2023-05-14T10:09:19.508Z"
   },
   {
    "duration": 24,
    "start_time": "2023-05-14T10:09:20.753Z"
   },
   {
    "duration": 82,
    "start_time": "2023-05-14T10:09:20.779Z"
   },
   {
    "duration": 205,
    "start_time": "2023-05-14T10:09:20.866Z"
   },
   {
    "duration": 1195,
    "start_time": "2023-05-15T19:16:30.508Z"
   },
   {
    "duration": 8,
    "start_time": "2023-05-15T19:16:31.706Z"
   },
   {
    "duration": 271,
    "start_time": "2023-05-15T19:16:31.715Z"
   },
   {
    "duration": 197,
    "start_time": "2023-05-15T19:16:31.988Z"
   },
   {
    "duration": 182,
    "start_time": "2023-05-15T19:17:57.504Z"
   },
   {
    "duration": 86,
    "start_time": "2023-05-15T19:19:26.784Z"
   },
   {
    "duration": 1322,
    "start_time": "2023-05-15T19:20:07.903Z"
   },
   {
    "duration": 12,
    "start_time": "2023-05-15T19:20:09.227Z"
   },
   {
    "duration": 16,
    "start_time": "2023-05-15T19:20:09.241Z"
   },
   {
    "duration": 160,
    "start_time": "2023-05-15T19:20:09.259Z"
   },
   {
    "duration": 276,
    "start_time": "2023-05-15T19:20:09.422Z"
   },
   {
    "duration": 30,
    "start_time": "2023-05-15T19:25:37.623Z"
   },
   {
    "duration": 28,
    "start_time": "2023-05-15T19:26:41.235Z"
   },
   {
    "duration": 141,
    "start_time": "2023-05-15T19:27:27.312Z"
   },
   {
    "duration": 1412,
    "start_time": "2023-05-15T19:27:40.731Z"
   },
   {
    "duration": 16,
    "start_time": "2023-05-15T19:27:42.145Z"
   },
   {
    "duration": 30,
    "start_time": "2023-05-15T19:27:42.163Z"
   },
   {
    "duration": 160,
    "start_time": "2023-05-15T19:27:42.196Z"
   },
   {
    "duration": 0,
    "start_time": "2023-05-15T19:27:42.358Z"
   },
   {
    "duration": 0,
    "start_time": "2023-05-15T19:27:42.359Z"
   },
   {
    "duration": 34,
    "start_time": "2023-05-15T19:30:13.498Z"
   },
   {
    "duration": 32,
    "start_time": "2023-05-15T19:31:48.529Z"
   },
   {
    "duration": 13,
    "start_time": "2023-05-15T19:35:15.260Z"
   },
   {
    "duration": 1371,
    "start_time": "2023-05-15T19:35:45.999Z"
   },
   {
    "duration": 0,
    "start_time": "2023-05-15T19:35:47.374Z"
   },
   {
    "duration": 0,
    "start_time": "2023-05-15T19:35:47.376Z"
   },
   {
    "duration": 0,
    "start_time": "2023-05-15T19:35:47.377Z"
   },
   {
    "duration": 0,
    "start_time": "2023-05-15T19:35:47.378Z"
   },
   {
    "duration": 0,
    "start_time": "2023-05-15T19:35:47.385Z"
   },
   {
    "duration": 0,
    "start_time": "2023-05-15T19:35:47.386Z"
   },
   {
    "duration": 1445,
    "start_time": "2023-05-15T19:36:25.586Z"
   },
   {
    "duration": 14,
    "start_time": "2023-05-15T19:36:27.033Z"
   },
   {
    "duration": 40,
    "start_time": "2023-05-15T19:36:27.050Z"
   },
   {
    "duration": 25,
    "start_time": "2023-05-15T19:36:27.093Z"
   },
   {
    "duration": 74,
    "start_time": "2023-05-15T19:36:27.121Z"
   },
   {
    "duration": 203,
    "start_time": "2023-05-15T19:36:27.201Z"
   },
   {
    "duration": 428,
    "start_time": "2023-05-15T19:36:27.407Z"
   },
   {
    "duration": 4268,
    "start_time": "2023-05-15T19:38:02.705Z"
   },
   {
    "duration": 114,
    "start_time": "2023-05-15T19:39:27.011Z"
   },
   {
    "duration": 48,
    "start_time": "2023-05-15T19:41:32.718Z"
   },
   {
    "duration": 1962,
    "start_time": "2023-05-15T19:41:43.402Z"
   },
   {
    "duration": 458,
    "start_time": "2023-05-15T19:43:10.486Z"
   },
   {
    "duration": 3848,
    "start_time": "2023-05-15T19:43:30.583Z"
   },
   {
    "duration": 539,
    "start_time": "2023-05-15T19:46:42.816Z"
   },
   {
    "duration": 425,
    "start_time": "2023-05-15T19:47:03.083Z"
   },
   {
    "duration": 34,
    "start_time": "2023-05-15T19:47:28.508Z"
   },
   {
    "duration": 22,
    "start_time": "2023-05-15T19:48:17.195Z"
   },
   {
    "duration": 26,
    "start_time": "2023-05-15T19:48:22.982Z"
   },
   {
    "duration": 22,
    "start_time": "2023-05-15T19:48:35.286Z"
   },
   {
    "duration": 33,
    "start_time": "2023-05-15T19:50:01.185Z"
   },
   {
    "duration": 369,
    "start_time": "2023-05-15T19:50:21.585Z"
   },
   {
    "duration": 1137,
    "start_time": "2023-05-15T19:50:32.586Z"
   },
   {
    "duration": 13,
    "start_time": "2023-05-15T19:50:33.724Z"
   },
   {
    "duration": 51,
    "start_time": "2023-05-15T19:50:33.738Z"
   },
   {
    "duration": 26,
    "start_time": "2023-05-15T19:50:33.791Z"
   },
   {
    "duration": 166,
    "start_time": "2023-05-15T19:50:33.820Z"
   },
   {
    "duration": 117,
    "start_time": "2023-05-15T19:50:33.990Z"
   },
   {
    "duration": 2045,
    "start_time": "2023-05-15T19:50:34.109Z"
   },
   {
    "duration": 3788,
    "start_time": "2023-05-15T19:50:36.158Z"
   },
   {
    "duration": 31,
    "start_time": "2023-05-15T19:51:58.801Z"
   },
   {
    "duration": 1341,
    "start_time": "2023-05-15T19:52:07.293Z"
   },
   {
    "duration": 12,
    "start_time": "2023-05-15T19:52:08.637Z"
   },
   {
    "duration": 29,
    "start_time": "2023-05-15T19:52:08.651Z"
   },
   {
    "duration": 37,
    "start_time": "2023-05-15T19:52:08.684Z"
   },
   {
    "duration": 76,
    "start_time": "2023-05-15T19:52:08.723Z"
   },
   {
    "duration": 198,
    "start_time": "2023-05-15T19:52:08.886Z"
   },
   {
    "duration": 2366,
    "start_time": "2023-05-15T19:52:09.087Z"
   },
   {
    "duration": 4333,
    "start_time": "2023-05-15T19:52:11.454Z"
   },
   {
    "duration": 4030,
    "start_time": "2023-05-15T19:54:34.988Z"
   },
   {
    "duration": 3882,
    "start_time": "2023-05-15T19:55:11.081Z"
   },
   {
    "duration": 3909,
    "start_time": "2023-05-15T19:55:49.725Z"
   },
   {
    "duration": 3835,
    "start_time": "2023-05-15T19:56:04.637Z"
   },
   {
    "duration": 3802,
    "start_time": "2023-05-15T19:57:49.346Z"
   },
   {
    "duration": 32,
    "start_time": "2023-05-15T20:02:39.830Z"
   },
   {
    "duration": 1182,
    "start_time": "2023-05-15T20:02:49.105Z"
   },
   {
    "duration": 17,
    "start_time": "2023-05-15T20:02:50.289Z"
   },
   {
    "duration": 37,
    "start_time": "2023-05-15T20:02:50.309Z"
   },
   {
    "duration": 58,
    "start_time": "2023-05-15T20:02:50.349Z"
   },
   {
    "duration": 82,
    "start_time": "2023-05-15T20:02:50.410Z"
   },
   {
    "duration": 286,
    "start_time": "2023-05-15T20:02:50.503Z"
   },
   {
    "duration": 2399,
    "start_time": "2023-05-15T20:02:50.795Z"
   },
   {
    "duration": 4059,
    "start_time": "2023-05-15T20:02:53.196Z"
   },
   {
    "duration": 48,
    "start_time": "2023-05-15T20:03:19.447Z"
   },
   {
    "duration": 38,
    "start_time": "2023-05-15T20:06:20.643Z"
   },
   {
    "duration": 313,
    "start_time": "2023-05-15T20:06:39.378Z"
   },
   {
    "duration": 52,
    "start_time": "2023-05-15T20:06:46.342Z"
   },
   {
    "duration": 2088,
    "start_time": "2023-05-15T20:06:53.204Z"
   },
   {
    "duration": 1187,
    "start_time": "2023-05-15T20:07:04.803Z"
   },
   {
    "duration": 12,
    "start_time": "2023-05-15T20:07:05.993Z"
   },
   {
    "duration": 136,
    "start_time": "2023-05-15T20:07:06.007Z"
   },
   {
    "duration": 0,
    "start_time": "2023-05-15T20:07:06.144Z"
   },
   {
    "duration": 0,
    "start_time": "2023-05-15T20:07:06.146Z"
   },
   {
    "duration": 0,
    "start_time": "2023-05-15T20:07:06.147Z"
   },
   {
    "duration": 0,
    "start_time": "2023-05-15T20:07:06.147Z"
   },
   {
    "duration": 0,
    "start_time": "2023-05-15T20:07:06.148Z"
   },
   {
    "duration": 60,
    "start_time": "2023-05-15T20:07:36.667Z"
   },
   {
    "duration": 45,
    "start_time": "2023-05-15T20:08:22.101Z"
   },
   {
    "duration": 32,
    "start_time": "2023-05-15T20:09:02.031Z"
   },
   {
    "duration": 1236,
    "start_time": "2023-05-15T20:09:11.421Z"
   },
   {
    "duration": 13,
    "start_time": "2023-05-15T20:09:12.660Z"
   },
   {
    "duration": 46,
    "start_time": "2023-05-15T20:09:12.675Z"
   },
   {
    "duration": 10,
    "start_time": "2023-05-15T20:09:12.723Z"
   },
   {
    "duration": 77,
    "start_time": "2023-05-15T20:09:12.735Z"
   },
   {
    "duration": 201,
    "start_time": "2023-05-15T20:09:12.817Z"
   },
   {
    "duration": 2236,
    "start_time": "2023-05-15T20:09:13.023Z"
   },
   {
    "duration": 4170,
    "start_time": "2023-05-15T20:09:15.261Z"
   },
   {
    "duration": 4,
    "start_time": "2023-05-15T20:12:19.822Z"
   },
   {
    "duration": 123,
    "start_time": "2023-05-15T20:12:23.312Z"
   },
   {
    "duration": 1212,
    "start_time": "2023-05-15T20:15:24.024Z"
   },
   {
    "duration": 13,
    "start_time": "2023-05-15T20:15:25.238Z"
   },
   {
    "duration": 27,
    "start_time": "2023-05-15T20:15:25.253Z"
   },
   {
    "duration": 17,
    "start_time": "2023-05-15T20:15:25.283Z"
   },
   {
    "duration": 97,
    "start_time": "2023-05-15T20:15:25.303Z"
   },
   {
    "duration": 197,
    "start_time": "2023-05-15T20:15:25.402Z"
   },
   {
    "duration": 2149,
    "start_time": "2023-05-15T20:15:25.607Z"
   },
   {
    "duration": 3896,
    "start_time": "2023-05-15T20:15:27.757Z"
   },
   {
    "duration": 5,
    "start_time": "2023-05-15T20:15:31.655Z"
   },
   {
    "duration": 157,
    "start_time": "2023-05-15T20:15:31.662Z"
   },
   {
    "duration": 48,
    "start_time": "2023-05-15T20:15:52.453Z"
   },
   {
    "duration": 1158,
    "start_time": "2023-05-15T20:16:03.922Z"
   },
   {
    "duration": 11,
    "start_time": "2023-05-15T20:16:05.082Z"
   },
   {
    "duration": 44,
    "start_time": "2023-05-15T20:16:05.095Z"
   },
   {
    "duration": 3,
    "start_time": "2023-05-15T20:16:05.140Z"
   },
   {
    "duration": 240,
    "start_time": "2023-05-15T20:16:05.145Z"
   },
   {
    "duration": 199,
    "start_time": "2023-05-15T20:16:05.387Z"
   },
   {
    "duration": 2098,
    "start_time": "2023-05-15T20:16:05.588Z"
   },
   {
    "duration": 3625,
    "start_time": "2023-05-15T20:16:07.688Z"
   },
   {
    "duration": 4,
    "start_time": "2023-05-15T20:16:11.315Z"
   },
   {
    "duration": 46,
    "start_time": "2023-05-15T20:16:11.321Z"
   },
   {
    "duration": 7228,
    "start_time": "2023-05-15T20:17:01.992Z"
   },
   {
    "duration": 3850,
    "start_time": "2023-05-15T20:17:39.031Z"
   },
   {
    "duration": 7411,
    "start_time": "2023-05-15T20:18:35.781Z"
   },
   {
    "duration": 1366,
    "start_time": "2023-05-15T20:20:07.809Z"
   },
   {
    "duration": 50,
    "start_time": "2023-05-16T16:07:38.950Z"
   },
   {
    "duration": 1165,
    "start_time": "2023-05-16T16:07:48.653Z"
   },
   {
    "duration": 11,
    "start_time": "2023-05-16T16:07:49.820Z"
   },
   {
    "duration": 50,
    "start_time": "2023-05-16T16:07:49.832Z"
   },
   {
    "duration": 2,
    "start_time": "2023-05-16T16:07:49.885Z"
   },
   {
    "duration": 130,
    "start_time": "2023-05-16T16:07:49.889Z"
   },
   {
    "duration": 197,
    "start_time": "2023-05-16T16:07:50.021Z"
   },
   {
    "duration": 2535,
    "start_time": "2023-05-16T16:07:50.220Z"
   },
   {
    "duration": 0,
    "start_time": "2023-05-16T16:07:52.757Z"
   },
   {
    "duration": 0,
    "start_time": "2023-05-16T16:07:52.758Z"
   },
   {
    "duration": 0,
    "start_time": "2023-05-16T16:07:52.759Z"
   },
   {
    "duration": 0,
    "start_time": "2023-05-16T16:07:52.760Z"
   },
   {
    "duration": 0,
    "start_time": "2023-05-16T16:07:52.761Z"
   },
   {
    "duration": 0,
    "start_time": "2023-05-16T16:07:52.761Z"
   },
   {
    "duration": 0,
    "start_time": "2023-05-16T16:07:52.762Z"
   },
   {
    "duration": 10,
    "start_time": "2023-05-16T16:08:27.210Z"
   },
   {
    "duration": 5,
    "start_time": "2023-05-16T16:08:45.853Z"
   },
   {
    "duration": 5,
    "start_time": "2023-05-16T16:09:12.657Z"
   },
   {
    "duration": 5,
    "start_time": "2023-05-16T16:09:18.548Z"
   },
   {
    "duration": 9,
    "start_time": "2023-05-16T16:13:27.158Z"
   },
   {
    "duration": 9,
    "start_time": "2023-05-16T16:13:34.645Z"
   },
   {
    "duration": 1959,
    "start_time": "2023-05-16T16:13:40.501Z"
   },
   {
    "duration": 1965,
    "start_time": "2023-05-16T16:14:18.655Z"
   },
   {
    "duration": 1157,
    "start_time": "2023-05-17T13:13:44.453Z"
   },
   {
    "duration": 11,
    "start_time": "2023-05-17T13:13:45.612Z"
   },
   {
    "duration": 41,
    "start_time": "2023-05-17T13:13:45.624Z"
   },
   {
    "duration": 5,
    "start_time": "2023-05-17T13:13:45.668Z"
   },
   {
    "duration": 131,
    "start_time": "2023-05-17T13:13:45.674Z"
   },
   {
    "duration": 196,
    "start_time": "2023-05-17T13:13:45.808Z"
   },
   {
    "duration": 99,
    "start_time": "2023-05-17T13:13:46.006Z"
   },
   {
    "duration": 10,
    "start_time": "2023-05-17T13:13:46.107Z"
   },
   {
    "duration": 1805,
    "start_time": "2023-05-17T13:13:46.119Z"
   },
   {
    "duration": 3292,
    "start_time": "2023-05-17T13:13:47.927Z"
   },
   {
    "duration": 4,
    "start_time": "2023-05-17T13:13:51.221Z"
   },
   {
    "duration": 2073,
    "start_time": "2023-05-17T13:13:51.226Z"
   },
   {
    "duration": 107,
    "start_time": "2023-05-17T13:13:53.302Z"
   },
   {
    "duration": 3409,
    "start_time": "2023-05-17T13:13:53.411Z"
   },
   {
    "duration": 7111,
    "start_time": "2023-05-17T13:13:56.822Z"
   },
   {
    "duration": 1133,
    "start_time": "2023-05-17T13:14:03.935Z"
   },
   {
    "duration": 2532,
    "start_time": "2023-05-17T13:15:40.033Z"
   },
   {
    "duration": 2704,
    "start_time": "2023-05-17T13:15:53.689Z"
   },
   {
    "duration": 6558,
    "start_time": "2023-05-17T13:17:44.793Z"
   },
   {
    "duration": 6934,
    "start_time": "2023-05-17T13:18:31.936Z"
   },
   {
    "duration": 6656,
    "start_time": "2023-05-17T13:18:53.953Z"
   },
   {
    "duration": 7341,
    "start_time": "2023-05-17T13:19:45.646Z"
   },
   {
    "duration": 2216,
    "start_time": "2023-05-17T13:22:15.768Z"
   },
   {
    "duration": 2738,
    "start_time": "2023-05-17T13:22:23.424Z"
   },
   {
    "duration": 1028,
    "start_time": "2023-05-17T13:23:28.052Z"
   },
   {
    "duration": 1240,
    "start_time": "2023-05-17T13:23:36.021Z"
   },
   {
    "duration": 757,
    "start_time": "2023-05-17T13:24:37.920Z"
   },
   {
    "duration": 702,
    "start_time": "2023-05-17T13:24:43.843Z"
   },
   {
    "duration": 630,
    "start_time": "2023-05-17T13:24:50.718Z"
   },
   {
    "duration": 695,
    "start_time": "2023-05-17T13:24:57.005Z"
   },
   {
    "duration": 2875,
    "start_time": "2023-05-17T13:25:22.625Z"
   },
   {
    "duration": 3036,
    "start_time": "2023-05-17T13:25:37.885Z"
   },
   {
    "duration": 2801,
    "start_time": "2023-05-17T13:26:14.813Z"
   },
   {
    "duration": 2344,
    "start_time": "2023-05-17T13:26:42.146Z"
   },
   {
    "duration": 7783,
    "start_time": "2023-05-17T13:26:59.585Z"
   },
   {
    "duration": 484,
    "start_time": "2023-05-17T13:27:21.314Z"
   },
   {
    "duration": 36,
    "start_time": "2023-05-17T13:34:26.351Z"
   },
   {
    "duration": 5,
    "start_time": "2023-05-17T13:36:30.794Z"
   },
   {
    "duration": 7,
    "start_time": "2023-05-17T13:36:33.140Z"
   },
   {
    "duration": 2379,
    "start_time": "2023-05-17T13:40:15.443Z"
   },
   {
    "duration": 2180,
    "start_time": "2023-05-17T13:40:23.887Z"
   },
   {
    "duration": 1570,
    "start_time": "2023-05-17T13:40:29.779Z"
   },
   {
    "duration": 2881,
    "start_time": "2023-05-17T13:40:49.202Z"
   },
   {
    "duration": 3043,
    "start_time": "2023-05-17T13:41:03.356Z"
   },
   {
    "duration": 6428,
    "start_time": "2023-05-17T13:41:44.491Z"
   },
   {
    "duration": 8193,
    "start_time": "2023-05-17T13:42:06.740Z"
   },
   {
    "duration": 766,
    "start_time": "2023-05-17T13:42:28.386Z"
   },
   {
    "duration": 77,
    "start_time": "2023-05-18T09:47:27.097Z"
   },
   {
    "duration": 1744,
    "start_time": "2023-05-18T09:47:37.233Z"
   },
   {
    "duration": 17,
    "start_time": "2023-05-18T09:47:38.979Z"
   },
   {
    "duration": 32,
    "start_time": "2023-05-18T09:47:38.999Z"
   },
   {
    "duration": 260,
    "start_time": "2023-05-18T09:47:39.034Z"
   },
   {
    "duration": 30,
    "start_time": "2023-05-18T09:47:39.350Z"
   },
   {
    "duration": 12,
    "start_time": "2023-05-18T09:47:39.389Z"
   },
   {
    "duration": 163,
    "start_time": "2023-05-18T09:47:39.404Z"
   },
   {
    "duration": 1888,
    "start_time": "2023-05-18T09:47:39.570Z"
   },
   {
    "duration": 3639,
    "start_time": "2023-05-18T09:47:41.459Z"
   },
   {
    "duration": 5,
    "start_time": "2023-05-18T09:47:45.103Z"
   },
   {
    "duration": 9614,
    "start_time": "2023-05-18T09:47:45.109Z"
   },
   {
    "duration": 699,
    "start_time": "2023-05-18T09:47:54.726Z"
   },
   {
    "duration": 704,
    "start_time": "2023-05-18T09:49:19.693Z"
   },
   {
    "duration": 51,
    "start_time": "2023-05-20T15:22:07.295Z"
   },
   {
    "duration": 1195,
    "start_time": "2023-05-20T15:22:13.528Z"
   },
   {
    "duration": 70,
    "start_time": "2023-05-20T15:22:18.772Z"
   },
   {
    "duration": 18,
    "start_time": "2023-05-20T15:22:35.300Z"
   },
   {
    "duration": 1171,
    "start_time": "2023-05-20T15:22:48.785Z"
   },
   {
    "duration": 10,
    "start_time": "2023-05-20T15:22:49.958Z"
   },
   {
    "duration": 22,
    "start_time": "2023-05-20T15:22:49.970Z"
   },
   {
    "duration": 37,
    "start_time": "2023-05-20T15:22:49.994Z"
   },
   {
    "duration": 93,
    "start_time": "2023-05-20T15:22:50.130Z"
   },
   {
    "duration": 6,
    "start_time": "2023-05-20T15:22:50.225Z"
   },
   {
    "duration": 85,
    "start_time": "2023-05-20T15:22:50.233Z"
   },
   {
    "duration": 1678,
    "start_time": "2023-05-20T15:22:50.320Z"
   },
   {
    "duration": 3143,
    "start_time": "2023-05-20T15:22:52.000Z"
   },
   {
    "duration": 4,
    "start_time": "2023-05-20T15:22:55.145Z"
   },
   {
    "duration": 8401,
    "start_time": "2023-05-20T15:22:55.151Z"
   },
   {
    "duration": 610,
    "start_time": "2023-05-20T15:23:03.554Z"
   },
   {
    "duration": 113,
    "start_time": "2023-05-20T15:25:19.930Z"
   },
   {
    "duration": 25,
    "start_time": "2023-05-20T15:41:20.463Z"
   },
   {
    "duration": 24,
    "start_time": "2023-05-20T15:46:55.149Z"
   },
   {
    "duration": 107,
    "start_time": "2023-05-20T15:54:10.764Z"
   },
   {
    "duration": 34021,
    "start_time": "2023-05-20T15:54:23.370Z"
   },
   {
    "duration": 24,
    "start_time": "2023-05-20T15:56:26.186Z"
   },
   {
    "duration": 33612,
    "start_time": "2023-05-20T15:56:30.885Z"
   },
   {
    "duration": 792,
    "start_time": "2023-05-20T15:59:50.311Z"
   },
   {
    "duration": 46893,
    "start_time": "2023-05-20T16:02:13.019Z"
   },
   {
    "duration": 6991,
    "start_time": "2023-05-20T16:05:06.283Z"
   },
   {
    "duration": 2084,
    "start_time": "2023-05-20T16:06:17.656Z"
   },
   {
    "duration": 55,
    "start_time": "2023-05-20T16:07:09.666Z"
   },
   {
    "duration": 498,
    "start_time": "2023-05-20T16:09:21.469Z"
   },
   {
    "duration": 49,
    "start_time": "2023-05-20T16:10:22.819Z"
   },
   {
    "duration": 7,
    "start_time": "2023-05-20T16:11:44.865Z"
   },
   {
    "duration": 48,
    "start_time": "2023-05-20T16:13:26.058Z"
   },
   {
    "duration": 7,
    "start_time": "2023-05-20T16:14:29.581Z"
   },
   {
    "duration": 8,
    "start_time": "2023-05-20T16:14:52.152Z"
   },
   {
    "duration": 508,
    "start_time": "2023-05-20T16:14:57.164Z"
   },
   {
    "duration": 7,
    "start_time": "2023-05-20T16:15:40.077Z"
   },
   {
    "duration": 1019,
    "start_time": "2023-05-20T16:18:42.383Z"
   },
   {
    "duration": 8,
    "start_time": "2023-05-20T16:18:43.404Z"
   },
   {
    "duration": 48,
    "start_time": "2023-05-20T16:18:43.414Z"
   },
   {
    "duration": 51,
    "start_time": "2023-05-20T16:18:43.465Z"
   },
   {
    "duration": 99,
    "start_time": "2023-05-20T16:18:43.518Z"
   },
   {
    "duration": 38734,
    "start_time": "2023-05-20T16:18:43.620Z"
   },
   {
    "duration": 11,
    "start_time": "2023-05-20T16:19:22.356Z"
   },
   {
    "duration": 21,
    "start_time": "2023-05-20T16:19:22.369Z"
   },
   {
    "duration": 41,
    "start_time": "2023-05-20T16:19:22.391Z"
   },
   {
    "duration": 39020,
    "start_time": "2023-05-20T16:19:22.517Z"
   },
   {
    "duration": 3,
    "start_time": "2023-05-20T16:20:01.539Z"
   },
   {
    "duration": 52815,
    "start_time": "2023-05-20T16:20:01.543Z"
   },
   {
    "duration": 621,
    "start_time": "2023-05-20T16:20:54.360Z"
   },
   {
    "duration": 10,
    "start_time": "2023-05-20T16:20:54.982Z"
   },
   {
    "duration": 901,
    "start_time": "2023-05-20T16:21:20.380Z"
   }
  ],
  "kernelspec": {
   "display_name": "Python 3 (ipykernel)",
   "language": "python",
   "name": "python3"
  },
  "language_info": {
   "codemirror_mode": {
    "name": "ipython",
    "version": 3
   },
   "file_extension": ".py",
   "mimetype": "text/x-python",
   "name": "python",
   "nbconvert_exporter": "python",
   "pygments_lexer": "ipython3",
   "version": "3.11.4"
  },
  "toc": {
   "base_numbering": 1,
   "nav_menu": {},
   "number_sections": true,
   "sideBar": true,
   "skip_h1_title": true,
   "title_cell": "Содержание",
   "title_sidebar": "Contents",
   "toc_cell": true,
   "toc_position": {
    "height": "calc(100% - 180px)",
    "left": "10px",
    "top": "150px",
    "width": "255.833px"
   },
   "toc_section_display": true,
   "toc_window_display": false
  }
 },
 "nbformat": 4,
 "nbformat_minor": 2
}
